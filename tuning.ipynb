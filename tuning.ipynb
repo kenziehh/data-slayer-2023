{
 "cells": [
  {
   "cell_type": "code",
   "execution_count": 2,
   "metadata": {},
   "outputs": [],
   "source": [
    "import pandas as pd\n",
    "from sklearn.tree import DecisionTreeRegressor\n",
    "from sklearn.model_selection import GridSearchCV\n",
    "\n",
    "# Baca data train\n",
    "data_train = pd.read_csv('cleaned_train.csv')\n",
    "\n",
    "# Baca data test\n",
    "data_test = pd.read_csv('cleaned_test.csv')\n",
    "\n",
    "# Lakukan pemrosesan data sesuai kebutuhan\n",
    "# Contoh: One-hot encoding untuk fitur kategorikal\n",
    "data_train = pd.get_dummies(data_train, columns=['Make', 'Vehicle Class', 'Transmission', 'Fuel Type'])\n",
    "data_test = pd.get_dummies(data_test, columns=['Make', 'Vehicle Class', 'Transmission', 'Fuel Type'])\n",
    "\n",
    "# Pisahkan fitur dan target dari data train\n",
    "features = ['Engine Size(L)', 'Cylinders', 'Fuel Consumption City (L/100km)',\n",
    "            'Fuel Consumption Hwy (L/100km)', 'Fuel Consumption Comb (L/100km)']\n",
    "X_train = data_train[features]\n",
    "y_train = data_train['CO2 Emissions(g/km)']\n",
    "\n",
    "# Tentukan model\n",
    "model = DecisionTreeRegressor()\n",
    "\n",
    "# Grid search untuk tuning kedalaman pohon\n",
    "param_grid = {'max_depth': [3, 5, 7, 10]}\n",
    "grid_search = GridSearchCV(model, param_grid, cv=5, scoring='neg_mean_squared_error')\n",
    "grid_search.fit(X_train, y_train)\n",
    "best_depth = grid_search.best_params_['max_depth']\n",
    "\n",
    "# Membuat model dengan parameter terbaik\n",
    "best_model = DecisionTreeRegressor(max_depth=best_depth)\n",
    "\n",
    "# Latih model\n",
    "best_model.fit(X_train, y_train)\n",
    "\n",
    "# Pisahkan fitur dari data test\n",
    "X_test = data_test[features]\n",
    "\n",
    "# Lakukan prediksi\n",
    "predictions = best_model.predict(X_test)\n",
    "\n",
    "# Buat DataFrame hasil prediksi\n",
    "result_df = pd.DataFrame({'Id': data_test['Id'], 'CO2 Emissions(g/km)': predictions})\n",
    "\n",
    "# Simpan hasil prediksi ke file CSV\n",
    "result_df.to_csv('submission5.csv', index=False)\n"
   ]
  },
  {
   "cell_type": "code",
   "execution_count": 3,
   "metadata": {},
   "outputs": [
    {
     "ename": "NameError",
     "evalue": "name 'mean_squared_error' is not defined",
     "output_type": "error",
     "traceback": [
      "\u001b[1;31m---------------------------------------------------------------------------\u001b[0m",
      "\u001b[1;31mNameError\u001b[0m                                 Traceback (most recent call last)",
      "Cell \u001b[1;32mIn[3], line 3\u001b[0m\n\u001b[0;32m      1\u001b[0m \u001b[39mimport\u001b[39;00m \u001b[39mnumpy\u001b[39;00m \u001b[39mas\u001b[39;00m \u001b[39mnp\u001b[39;00m\n\u001b[0;32m      2\u001b[0m predictions_test \u001b[39m=\u001b[39m pd\u001b[39m.\u001b[39mread_csv(\u001b[39m'\u001b[39m\u001b[39msubmission5.csv\u001b[39m\u001b[39m'\u001b[39m)[\u001b[39m'\u001b[39m\u001b[39mCO2 Emissions(g/km)\u001b[39m\u001b[39m'\u001b[39m]\n\u001b[1;32m----> 3\u001b[0m rmse_test \u001b[39m=\u001b[39m np\u001b[39m.\u001b[39msqrt(mean_squared_error(actual_test, predictions_test))\n\u001b[0;32m      4\u001b[0m \u001b[39mprint\u001b[39m(\u001b[39mf\u001b[39m\u001b[39m'\u001b[39m\u001b[39mRMSE for Data Test: \u001b[39m\u001b[39m{\u001b[39;00mrmse_test\u001b[39m}\u001b[39;00m\u001b[39m'\u001b[39m)\n",
      "\u001b[1;31mNameError\u001b[0m: name 'mean_squared_error' is not defined"
     ]
    }
   ],
   "source": [
    "import numpy as np\n",
    "predictions_test = pd.read_csv('submission5.csv')['CO2 Emissions(g/km)']\n",
    "rmse_test = np.sqrt(mean_squared_error(actual_test, predictions_test))\n",
    "print(f'RMSE for Data Test: {rmse_test}')"
   ]
  },
  {
   "cell_type": "code",
   "execution_count": 6,
   "metadata": {},
   "outputs": [
    {
     "name": "stdout",
     "output_type": "stream",
     "text": [
      "RMSE for Data Train: 62.35754040881313\n",
      "Tidak dapat menghitung RMSE untuk Data Test karena file 'ground_truth_test.csv' tidak ditemukan.\n"
     ]
    }
   ],
   "source": [
    "import pandas as pd\n",
    "from sklearn.tree import DecisionTreeRegressor\n",
    "from sklearn.model_selection import GridSearchCV\n",
    "from sklearn.metrics import mean_squared_error\n",
    "import numpy as np\n",
    "\n",
    "# Baca data train\n",
    "data_train = pd.read_csv('cleaned_train.csv')\n",
    "\n",
    "# Baca data test\n",
    "data_test = pd.read_csv('cleaned_test.csv')\n",
    "\n",
    "# Lakukan pemrosesan data sesuai kebutuhan\n",
    "data_train = pd.get_dummies(data_train, columns=['Make', 'Vehicle Class', 'Transmission', 'Fuel Type'])\n",
    "data_test = pd.get_dummies(data_test, columns=['Make', 'Vehicle Class', 'Transmission', 'Fuel Type'])\n",
    "\n",
    "# Pisahkan fitur dan target dari data train\n",
    "features = ['Engine Size(L)', 'Cylinders', 'Fuel Consumption City (L/100km)',\n",
    "            'Fuel Consumption Hwy (L/100km)', 'Fuel Consumption Comb (L/100km)']\n",
    "X_train = data_train[features]\n",
    "y_train = data_train['CO2 Emissions(g/km)']\n",
    "\n",
    "# Tentukan model\n",
    "model = DecisionTreeRegressor()\n",
    "\n",
    "# Grid search untuk tuning kedalaman pohon\n",
    "param_grid = {'max_depth': [3, 5, 7, 10]}\n",
    "grid_search = GridSearchCV(model, param_grid, cv=5, scoring='neg_mean_squared_error')\n",
    "grid_search.fit(X_train, y_train)\n",
    "best_depth = grid_search.best_params_['max_depth']\n",
    "\n",
    "# Membuat model dengan parameter terbaik\n",
    "best_model = DecisionTreeRegressor(max_depth=best_depth)\n",
    "\n",
    "# Latih model\n",
    "best_model.fit(X_train, y_train)\n",
    "\n",
    "# Pisahkan fitur dari data test\n",
    "X_test = data_test[features]\n",
    "\n",
    "# Lakukan prediksi\n",
    "predictions = best_model.predict(X_test)\n",
    "\n",
    "# Buat DataFrame hasil prediksi\n",
    "result_df = pd.DataFrame({'Id': data_test['Id'], 'CO2 Emissions(g/km)': predictions})\n",
    "\n",
    "# Simpan hasil prediksi ke file CSV\n",
    "result_df.to_csv('predictions.csv', index=False)\n",
    "\n",
    "# Baca data sebenarnya (ground truth) untuk data train\n",
    "actual_train = data_train['CO2 Emissions(g/km)']\n",
    "\n",
    "# Hitung prediksi untuk data train\n",
    "predictions_train = best_model.predict(X_train)\n",
    "\n",
    "# Hitung RMSE untuk data train\n",
    "rmse_train = np.sqrt(mean_squared_error(actual_train, predictions_train))\n",
    "print(f'RMSE for Data Train: {rmse_train}')\n",
    "\n",
    "# Jika ground truth untuk data test tersedia, hitung RMSE untuk data test\n",
    "# Pastikan hasil prediksi 'predictions.csv' sudah ada\n",
    "try:\n",
    "    actual_test = pd.read_csv('ground_truth_test.csv')['CO2 Emissions(g/km)']\n",
    "    predictions_test = result_df['CO2 Emissions(g/km)']\n",
    "    rmse_test = np.sqrt(mean_squared_error(actual_test, predictions_test))\n",
    "    print(f'RMSE for Data Test: {rmse_test}')\n",
    "except FileNotFoundError:\n",
    "    print(\"Tidak dapat menghitung RMSE untuk Data Test karena file 'ground_truth_test.csv' tidak ditemukan.\")\n"
   ]
  },
  {
   "cell_type": "code",
   "execution_count": 7,
   "metadata": {},
   "outputs": [
    {
     "name": "stdout",
     "output_type": "stream",
     "text": [
      "RMSE for Data Train: 60.30303719153053\n",
      "Tidak dapat menghitung RMSE untuk Data Test karena file 'ground_truth_test.csv' tidak ditemukan.\n"
     ]
    }
   ],
   "source": [
    "# Contoh: Menggunakan Random Forest Regression\n",
    "from sklearn.ensemble import RandomForestRegressor\n",
    "\n",
    "# Tentukan model\n",
    "model = RandomForestRegressor(n_estimators=100, max_depth=10)  # Sesuaikan hyperparameter sesuai kebutuhan\n",
    "\n",
    "# Latih model\n",
    "model.fit(X_train, y_train)\n",
    "\n",
    "# Lakukan prediksi\n",
    "predictions = model.predict(X_test)\n",
    "\n",
    "# Hitung RMSE untuk data train\n",
    "predictions_train = model.predict(X_train)\n",
    "rmse_train = np.sqrt(mean_squared_error(actual_train, predictions_train))\n",
    "print(f'RMSE for Data Train: {rmse_train}')\n",
    "\n",
    "# Simpan hasil prediksi ke file CSV\n",
    "result_df = pd.DataFrame({'Id': data_test['Id'], 'CO2 Emissions(g/km)': predictions})\n",
    "result_df.to_csv('predictions.csv', index=False)\n",
    "\n",
    "# Jika ground truth untuk data test tersedia, hitung RMSE untuk data test\n",
    "try:\n",
    "    actual_test = pd.read_csv('ground_truth_test.csv')['CO2 Emissions(g/km)']\n",
    "    predictions_test = result_df['CO2 Emissions(g/km)']\n",
    "    rmse_test = np.sqrt(mean_squared_error(actual_test, predictions_test))\n",
    "    print(f'RMSE for Data Test: {rmse_test}')\n",
    "except FileNotFoundError:\n",
    "    print(\"Tidak dapat menghitung RMSE untuk Data Test karena file 'ground_truth_test.csv' tidak ditemukan.\")\n"
   ]
  },
  {
   "cell_type": "code",
   "execution_count": 9,
   "metadata": {},
   "outputs": [
    {
     "name": "stdout",
     "output_type": "stream",
     "text": [
      "Tuned Random Forest Regression RMSE: 67.13658132025158\n"
     ]
    }
   ],
   "source": [
    "from sklearn.model_selection import train_test_split, GridSearchCV\n",
    "from sklearn.ensemble import RandomForestRegressor\n",
    "from sklearn.metrics import mean_squared_error\n",
    "import numpy as np\n",
    "df=pd.read_csv('cleaned_train.csv')\n",
    "X = df[['Engine Size(L)', 'Cylinders', 'Fuel Consumption City (L/100km)', 'Fuel Consumption Hwy (L/100km)', 'Fuel Consumption Comb (L/100km)']]\n",
    "y = df['CO2 Emissions(g/km)']\n",
    "X_train, X_test, y_train, y_test = train_test_split(X, y, test_size=0.2, random_state=42)\n",
    "\n",
    "# Penyetelan hyperparameter untuk RandomForestRegressor\n",
    "param_grid = {\n",
    "    'n_estimators': [50, 100],\n",
    "    'max_depth': [None, 10],\n",
    "    'min_samples_split': [2, 5],\n",
    "    'min_samples_leaf': [1, 2]\n",
    "}\n",
    "\n",
    "grid_search = GridSearchCV(RandomForestRegressor(), param_grid, cv=3, scoring='neg_mean_squared_error')\n",
    "grid_search.fit(X_train, y_train)\n",
    "\n",
    "best_rf_model = grid_search.best_estimator_\n",
    "rf_pred_tuned = best_rf_model.predict(X_test)\n",
    "\n",
    "# Evaluasi kinerja dengan RMSE\n",
    "def rmse(y_true, y_pred):\n",
    "    return np.sqrt(mean_squared_error(y_true, y_pred))\n",
    "\n",
    "rf_rmse_tuned = rmse(y_test, rf_pred_tuned)\n",
    "print('Tuned Random Forest Regression RMSE:', rf_rmse_tuned)"
   ]
  }
 ],
 "metadata": {
  "kernelspec": {
   "display_name": "Python 3",
   "language": "python",
   "name": "python3"
  },
  "language_info": {
   "codemirror_mode": {
    "name": "ipython",
    "version": 3
   },
   "file_extension": ".py",
   "mimetype": "text/x-python",
   "name": "python",
   "nbconvert_exporter": "python",
   "pygments_lexer": "ipython3",
   "version": "3.12.0"
  },
  "orig_nbformat": 4
 },
 "nbformat": 4,
 "nbformat_minor": 2
}
