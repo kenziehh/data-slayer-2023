{
 "cells": [
  {
   "cell_type": "code",
   "execution_count": null,
   "metadata": {},
   "outputs": [],
   "source": [
    "from sklearn.ensemble import GradientBoostingRegressor\n",
    "from sklearn.metrics import mean_squared_error\n",
    "from sklearn.model_selection import train_test_split\n",
    "from sklearn.preprocessing import StandardScaler\n",
    "import pandas as pd\n",
    "\n",
    "# Membaca data\n",
    "df_train = pd.read_csv('cleaned_train.csv')\n",
    "df_train = df_train.dropna()\n",
    "\n",
    "# Membuang kolom 'Id'\n",
    "df_train = df_train.drop(['Id'], axis=1)\n",
    "\n",
    "# Memilih fitur dan target\n",
    "X_combined = df_train.drop(['CO2 Emissions(g/km)'], axis=1)\n",
    "y_combined = df_train['CO2 Emissions(g/km)']\n",
    "\n",
    "# One-hot encode categorical variables\n",
    "X_combined = pd.get_dummies(X_combined)\n",
    "\n",
    "# Standardize the data\n",
    "scaler = StandardScaler()\n",
    "X_combined_scaled = scaler.fit_transform(X_combined)\n",
    "\n",
    "# Split data\n",
    "X_train_scaled, X_test_scaled, y_train, y_test = train_test_split(X_combined_scaled, y_combined, test_size=0.2, random_state=42)\n",
    "\n",
    "# Model GradientBoosting\n",
    "gb_model = GradientBoostingRegressor(n_estimators=150, max_depth=10, random_state=42, learning_rate=0.1)\n",
    "gb_model.fit(X_train_scaled, y_train)\n",
    "gb_pred = gb_model.predict(X_test_scaled)\n",
    "\n",
    "# Evaluasi RMSE\n",
    "gb_rmse = mean_squared_error(y_test, gb_pred, squared=False)\n",
    "print(f\"RMSE on the test set using Gradient Boosting: {gb_rmse}\")\n"
   ]
  }
 ],
 "metadata": {
  "language_info": {
   "name": "python"
  },
  "orig_nbformat": 4
 },
 "nbformat": 4,
 "nbformat_minor": 2
}
