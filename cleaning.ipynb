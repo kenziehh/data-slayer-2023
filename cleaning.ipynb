{
 "cells": [
  {
   "cell_type": "code",
<<<<<<< Updated upstream
   "execution_count": 1,
=======
   "execution_count": 117,
>>>>>>> Stashed changes
   "metadata": {},
   "outputs": [],
   "source": [
    "import pandas as pd\n",
    "import numpy as np"
   ]
  },
  {
   "cell_type": "code",
<<<<<<< Updated upstream
   "execution_count": 2,
=======
   "execution_count": 118,
>>>>>>> Stashed changes
   "metadata": {},
   "outputs": [],
   "source": [
    "data = 'train.csv'"
   ]
  },
  {
   "cell_type": "code",
<<<<<<< Updated upstream
   "execution_count": 3,
=======
   "execution_count": 119,
>>>>>>> Stashed changes
   "metadata": {},
   "outputs": [],
   "source": [
    "df = pd.read_csv(data)"
   ]
  },
  {
   "cell_type": "code",
<<<<<<< Updated upstream
   "execution_count": 4,
=======
   "execution_count": 154,
>>>>>>> Stashed changes
   "metadata": {},
   "outputs": [
    {
     "name": "stdout",
     "output_type": "stream",
     "text": [
      "<class 'pandas.core.frame.DataFrame'>\n",
      "RangeIndex: 54937 entries, 0 to 54936\n",
      "Data columns (total 11 columns):\n",
<<<<<<< Updated upstream
      " #   Column                 Non-Null Count  Dtype \n",
      "---  ------                 --------------  ----- \n",
      " 0   Id                     54937 non-null  int64 \n",
      " 1   Make                   54937 non-null  object\n",
      " 2   Vehicle Class          54398 non-null  object\n",
      " 3   Engine Size(L)         53544 non-null  object\n",
      " 4   Cylinders              53739 non-null  object\n",
      " 5   Transmission           54527 non-null  object\n",
      " 6   Fuel Type              54391 non-null  object\n",
      " 7   Fuel Consumption City  53369 non-null  object\n",
      " 8   Fuel Consumption Hwy   53236 non-null  object\n",
      " 9   Fuel Consumption Comb  53263 non-null  object\n",
      " 10  CO2 Emissions(g/km)    54937 non-null  int64 \n",
      "dtypes: int64(2), object(9)\n",
      "memory usage: 4.6+ MB\n"
=======
      " #   Column                           Non-Null Count   Dtype  \n",
      "---  ------                           --------------   -----  \n",
      " 0   Id                               137141 non-null  int64  \n",
      " 1   Make                             137141 non-null  object \n",
      " 2   Vehicle Class                    137141 non-null  object \n",
      " 3   Engine Size(L)                   137141 non-null  float64\n",
      " 4   Cylinders                        137141 non-null  float64\n",
      " 5   Transmission                     137141 non-null  object \n",
      " 6   Fuel Type                        137141 non-null  object \n",
      " 7   Fuel Consumption City (L/100km)  137141 non-null  float64\n",
      " 8   Fuel Consumption Hwy (L/100km)   137141 non-null  float64\n",
      " 9   Fuel Consumption Comb (L/100km)  137141 non-null  float64\n",
      " 10  CO2 Emissions(g/km)              137141 non-null  float64\n",
      "dtypes: float64(6), int64(1), object(4)\n",
      "memory usage: 11.5+ MB\n"
>>>>>>> Stashed changes
     ]
    }
   ],
   "source": [
    "df.info()"
   ]
  },
  {
   "cell_type": "code",
   "execution_count": 121,
   "metadata": {},
   "outputs": [
    {
     "data": {
      "text/html": [
       "<div>\n",
       "<style scoped>\n",
       "    .dataframe tbody tr th:only-of-type {\n",
       "        vertical-align: middle;\n",
       "    }\n",
       "\n",
       "    .dataframe tbody tr th {\n",
       "        vertical-align: top;\n",
       "    }\n",
       "\n",
       "    .dataframe thead th {\n",
       "        text-align: right;\n",
       "    }\n",
       "</style>\n",
       "<table border=\"1\" class=\"dataframe\">\n",
       "  <thead>\n",
       "    <tr style=\"text-align: right;\">\n",
       "      <th></th>\n",
       "      <th>Id</th>\n",
       "      <th>Make</th>\n",
       "      <th>Vehicle Class</th>\n",
       "      <th>Engine Size(L)</th>\n",
       "      <th>Cylinders</th>\n",
       "      <th>Transmission</th>\n",
       "      <th>Fuel Type</th>\n",
       "      <th>Fuel Consumption City</th>\n",
       "      <th>Fuel Consumption Hwy</th>\n",
       "      <th>Fuel Consumption Comb</th>\n",
       "      <th>CO2 Emissions(g/km)</th>\n",
       "    </tr>\n",
       "  </thead>\n",
       "  <tbody>\n",
       "    <tr>\n",
       "      <th>33</th>\n",
       "      <td>34</td>\n",
       "      <td>KIO</td>\n",
       "      <td>COMPACT</td>\n",
       "      <td>2.0</td>\n",
       "      <td>4.0</td>\n",
       "      <td>AS6</td>\n",
       "      <td>X</td>\n",
       "      <td>-1</td>\n",
       "      <td>14.88 km per L</td>\n",
       "      <td>-1</td>\n",
       "      <td>213.000000</td>\n",
       "    </tr>\n",
       "    <tr>\n",
       "      <th>34</th>\n",
       "      <td>35</td>\n",
       "      <td>BARUSU</td>\n",
       "      <td>COMPACT</td>\n",
       "      <td>na</td>\n",
       "      <td>NaN</td>\n",
       "      <td>AV8</td>\n",
       "      <td>Z</td>\n",
       "      <td>14.08 mpg Imp.</td>\n",
       "      <td>15.64 km per L</td>\n",
       "      <td>13.91 L/100 km</td>\n",
       "      <td>247.000000</td>\n",
       "    </tr>\n",
       "    <tr>\n",
       "      <th>35</th>\n",
       "      <td>36</td>\n",
       "      <td>CHEVO</td>\n",
       "      <td>COMPACT</td>\n",
       "      <td>2.0</td>\n",
       "      <td>NaN</td>\n",
       "      <td>M5</td>\n",
       "      <td>X</td>\n",
       "      <td>22.58 mpg Imp.</td>\n",
       "      <td>11.66 liters per 100 km</td>\n",
       "      <td>23.30 mpg Imp.</td>\n",
       "      <td>258.059742</td>\n",
       "    </tr>\n",
       "    <tr>\n",
       "      <th>36</th>\n",
       "      <td>37</td>\n",
       "      <td>BMV</td>\n",
       "      <td>COMPACT</td>\n",
       "      <td>3.0</td>\n",
       "      <td>6.0</td>\n",
       "      <td>A8</td>\n",
       "      <td>Z</td>\n",
       "      <td>1.54 L/100 km</td>\n",
       "      <td>6.85 MPG (AS)</td>\n",
       "      <td>14.43 MPG (AS)</td>\n",
       "      <td>188.000000</td>\n",
       "    </tr>\n",
       "    <tr>\n",
       "      <th>37</th>\n",
       "      <td>38</td>\n",
       "      <td>CHEVO</td>\n",
       "      <td>SUBCOMPACT</td>\n",
       "      <td>unspecified</td>\n",
       "      <td>6.0</td>\n",
       "      <td>AS8</td>\n",
       "      <td>X</td>\n",
       "      <td>18.27 km/L</td>\n",
       "      <td>1.02 L/10km</td>\n",
       "      <td>13.12 km per L</td>\n",
       "      <td>230.000000</td>\n",
       "    </tr>\n",
       "    <tr>\n",
       "      <th>...</th>\n",
       "      <td>...</td>\n",
       "      <td>...</td>\n",
       "      <td>...</td>\n",
       "      <td>...</td>\n",
       "      <td>...</td>\n",
       "      <td>...</td>\n",
       "      <td>...</td>\n",
       "      <td>...</td>\n",
       "      <td>...</td>\n",
       "      <td>...</td>\n",
       "      <td>...</td>\n",
       "    </tr>\n",
       "    <tr>\n",
       "      <th>137136</th>\n",
       "      <td>137137</td>\n",
       "      <td>BMV</td>\n",
       "      <td>SUBCOMPACT</td>\n",
       "      <td>na</td>\n",
       "      <td>8.0</td>\n",
       "      <td>AS8</td>\n",
       "      <td>Z</td>\n",
       "      <td>33.71 L/100 km</td>\n",
       "      <td>12.99 km per L</td>\n",
       "      <td>4.54 km per L</td>\n",
       "      <td>275.000000</td>\n",
       "    </tr>\n",
       "    <tr>\n",
       "      <th>137137</th>\n",
       "      <td>137138</td>\n",
       "      <td>GONDA</td>\n",
       "      <td>STATION WAGON - SMALL</td>\n",
       "      <td>1.5</td>\n",
       "      <td>4.0</td>\n",
       "      <td>M6</td>\n",
       "      <td>X</td>\n",
       "      <td>15.41 km per L</td>\n",
       "      <td>0.87 L/100 km</td>\n",
       "      <td>59.38 MPG (AS)</td>\n",
       "      <td>166.000000</td>\n",
       "    </tr>\n",
       "    <tr>\n",
       "      <th>137138</th>\n",
       "      <td>137139</td>\n",
       "      <td>NIRRAN</td>\n",
       "      <td>MID-SIZE</td>\n",
       "      <td>1.8</td>\n",
       "      <td>4.0</td>\n",
       "      <td>AV</td>\n",
       "      <td>X</td>\n",
       "      <td>2.99 liters per 100 km</td>\n",
       "      <td>8.38 L/100 km</td>\n",
       "      <td>52.19 mpg Imp.</td>\n",
       "      <td>181.000000</td>\n",
       "    </tr>\n",
       "    <tr>\n",
       "      <th>137139</th>\n",
       "      <td>137140</td>\n",
       "      <td>TOYOTI</td>\n",
       "      <td>COMPACT</td>\n",
       "      <td>1.8</td>\n",
       "      <td>4.0</td>\n",
       "      <td>na</td>\n",
       "      <td>X</td>\n",
       "      <td>11.48 L/100km</td>\n",
       "      <td>1275.84 mpg Imp.</td>\n",
       "      <td>0.64 L/10km</td>\n",
       "      <td>123.000000</td>\n",
       "    </tr>\n",
       "    <tr>\n",
       "      <th>137140</th>\n",
       "      <td>137141</td>\n",
       "      <td>BARUSU</td>\n",
       "      <td>MID-SIZE</td>\n",
       "      <td>2.5</td>\n",
       "      <td>4.0</td>\n",
       "      <td>AV6</td>\n",
       "      <td>X</td>\n",
       "      <td>3.36 liters per 100 km</td>\n",
       "      <td>0.28 L/10km</td>\n",
       "      <td>32.27 km per L</td>\n",
       "      <td>182.000000</td>\n",
       "    </tr>\n",
       "  </tbody>\n",
       "</table>\n",
       "<p>137108 rows × 11 columns</p>\n",
       "</div>"
      ],
      "text/plain": [
       "            Id    Make          Vehicle Class Engine Size(L) Cylinders  \\\n",
       "33          34     KIO                COMPACT            2.0       4.0   \n",
       "34          35  BARUSU                COMPACT             na       NaN   \n",
       "35          36   CHEVO                COMPACT            2.0       NaN   \n",
       "36          37     BMV                COMPACT            3.0       6.0   \n",
       "37          38   CHEVO             SUBCOMPACT    unspecified       6.0   \n",
       "...        ...     ...                    ...            ...       ...   \n",
       "137136  137137     BMV             SUBCOMPACT             na       8.0   \n",
       "137137  137138   GONDA  STATION WAGON - SMALL            1.5       4.0   \n",
       "137138  137139  NIRRAN               MID-SIZE            1.8       4.0   \n",
       "137139  137140  TOYOTI                COMPACT            1.8       4.0   \n",
       "137140  137141  BARUSU               MID-SIZE            2.5       4.0   \n",
       "\n",
       "       Transmission Fuel Type   Fuel Consumption City  \\\n",
       "33              AS6         X                      -1   \n",
       "34              AV8         Z          14.08 mpg Imp.   \n",
       "35               M5         X          22.58 mpg Imp.   \n",
       "36               A8         Z           1.54 L/100 km   \n",
       "37              AS8         X              18.27 km/L   \n",
       "...             ...       ...                     ...   \n",
       "137136          AS8         Z          33.71 L/100 km   \n",
       "137137           M6         X          15.41 km per L   \n",
       "137138           AV         X  2.99 liters per 100 km   \n",
       "137139           na         X           11.48 L/100km   \n",
       "137140          AV6         X  3.36 liters per 100 km   \n",
       "\n",
       "           Fuel Consumption Hwy Fuel Consumption Comb  CO2 Emissions(g/km)  \n",
       "33               14.88 km per L                    -1           213.000000  \n",
       "34               15.64 km per L        13.91 L/100 km           247.000000  \n",
       "35      11.66 liters per 100 km        23.30 mpg Imp.           258.059742  \n",
       "36                6.85 MPG (AS)        14.43 MPG (AS)           188.000000  \n",
       "37                  1.02 L/10km        13.12 km per L           230.000000  \n",
       "...                         ...                   ...                  ...  \n",
       "137136           12.99 km per L         4.54 km per L           275.000000  \n",
       "137137            0.87 L/100 km        59.38 MPG (AS)           166.000000  \n",
       "137138            8.38 L/100 km        52.19 mpg Imp.           181.000000  \n",
       "137139         1275.84 mpg Imp.           0.64 L/10km           123.000000  \n",
       "137140              0.28 L/10km        32.27 km per L           182.000000  \n",
       "\n",
       "[137108 rows x 11 columns]"
      ]
     },
     "execution_count": 121,
     "metadata": {},
     "output_type": "execute_result"
    }
   ],
   "source": [
    "df.iloc[33:]"
   ]
  },
  {
   "cell_type": "code",
<<<<<<< Updated upstream
   "execution_count": 30,
=======
   "execution_count": 155,
>>>>>>> Stashed changes
   "metadata": {},
   "outputs": [
    {
     "data": {
      "text/plain": [
       "Id                                 0\n",
       "Make                               0\n",
       "Vehicle Class                      0\n",
       "Engine Size(L)                     0\n",
       "Cylinders                          0\n",
       "Transmission                       0\n",
       "Fuel Type                          0\n",
       "Fuel Consumption City (L/100km)    0\n",
       "Fuel Consumption Hwy (L/100km)     0\n",
       "Fuel Consumption Comb (L/100km)    0\n",
       "CO2 Emissions(g/km)                0\n",
       "dtype: int64"
      ]
     },
<<<<<<< Updated upstream
     "execution_count": 30,
=======
     "execution_count": 155,
>>>>>>> Stashed changes
     "metadata": {},
     "output_type": "execute_result"
    }
   ],
   "source": [
    "missing_value = df.isnull().sum()\n",
    "missing_value[0:11]\n"
   ]
  },
  {
   "cell_type": "code",
   "execution_count": 123,
   "metadata": {},
   "outputs": [
    {
     "data": {
      "text/plain": [
       "Index([     3,     41,     58,     91,    100,    106,    107,    146,    164,\n",
       "          197,\n",
       "       ...\n",
       "       136359, 136407, 136496, 136507, 136508, 136568, 136700, 136815, 137018,\n",
       "       137090],\n",
       "      dtype='int64', length=2582)"
      ]
     },
     "execution_count": 123,
     "metadata": {},
     "output_type": "execute_result"
    }
   ],
   "source": [
    "null_indexes = df[df['Fuel Consumption Comb'].isnull()].index\n",
    "null_indexes"
   ]
  },
  {
   "cell_type": "code",
<<<<<<< Updated upstream
   "execution_count": 6,
=======
   "execution_count": 124,
>>>>>>> Stashed changes
   "metadata": {},
   "outputs": [
    {
     "data": {
      "text/html": [
       "<div>\n",
       "<style scoped>\n",
       "    .dataframe tbody tr th:only-of-type {\n",
       "        vertical-align: middle;\n",
       "    }\n",
       "\n",
       "    .dataframe tbody tr th {\n",
       "        vertical-align: top;\n",
       "    }\n",
       "\n",
       "    .dataframe thead th {\n",
       "        text-align: right;\n",
       "    }\n",
       "</style>\n",
       "<table border=\"1\" class=\"dataframe\">\n",
       "  <thead>\n",
       "    <tr style=\"text-align: right;\">\n",
       "      <th></th>\n",
       "      <th>Id</th>\n",
       "      <th>Make</th>\n",
       "      <th>Vehicle Class</th>\n",
       "      <th>Engine Size(L)</th>\n",
       "      <th>Cylinders</th>\n",
       "      <th>Transmission</th>\n",
       "      <th>Fuel Type</th>\n",
       "      <th>Fuel Consumption City</th>\n",
       "      <th>Fuel Consumption Hwy</th>\n",
       "      <th>Fuel Consumption Comb</th>\n",
       "      <th>CO2 Emissions(g/km)</th>\n",
       "    </tr>\n",
       "  </thead>\n",
       "  <tbody>\n",
       "    <tr>\n",
       "      <th>0</th>\n",
       "      <td>1</td>\n",
<<<<<<< Updated upstream
       "      <td>MITSU</td>\n",
       "      <td>SUV - SMALL</td>\n",
       "      <td>1.5</td>\n",
       "      <td>4.0</td>\n",
       "      <td>AV8</td>\n",
       "      <td>X</td>\n",
       "      <td>8.40 km/L</td>\n",
       "      <td>0.72 L/10km</td>\n",
       "      <td>0.98 L/10km</td>\n",
       "      <td>208</td>\n",
=======
       "      <td>FOLD</td>\n",
       "      <td>PICKUP TRUCK - STANDARD</td>\n",
       "      <td>3.5</td>\n",
       "      <td>6.0</td>\n",
       "      <td>A6</td>\n",
       "      <td>X</td>\n",
       "      <td>8.64 liters per 100 km</td>\n",
       "      <td>6.14 L/100 km</td>\n",
       "      <td>37.59 mpg Imp.</td>\n",
       "      <td>306.0</td>\n",
>>>>>>> Stashed changes
       "    </tr>\n",
       "    <tr>\n",
       "      <th>1</th>\n",
       "      <td>2</td>\n",
<<<<<<< Updated upstream
       "      <td>TOYOTI</td>\n",
       "      <td>PICKUP TRUCK - SMALL</td>\n",
       "      <td>not-available</td>\n",
       "      <td>6.0</td>\n",
       "      <td>A5</td>\n",
       "      <td>X</td>\n",
       "      <td>7.25 km per L</td>\n",
       "      <td>9.70 L/100km</td>\n",
       "      <td>11.96 L/100km</td>\n",
       "      <td>325</td>\n",
=======
       "      <td>CHEVO</td>\n",
       "      <td>PICKUP TRUCK - STANDARD</td>\n",
       "      <td>5.3</td>\n",
       "      <td>NaN</td>\n",
       "      <td>A6</td>\n",
       "      <td>E</td>\n",
       "      <td>27.27 liters per 100 km</td>\n",
       "      <td>30.76 liters per 100 km</td>\n",
       "      <td>28.84 L/100 km</td>\n",
       "      <td>283.0</td>\n",
>>>>>>> Stashed changes
       "    </tr>\n",
       "    <tr>\n",
       "      <th>2</th>\n",
       "      <td>3</td>\n",
<<<<<<< Updated upstream
       "      <td>MATSUDA</td>\n",
       "      <td>COMPACT</td>\n",
       "      <td>2.0</td>\n",
       "      <td>4.0</td>\n",
       "      <td>AS6</td>\n",
       "      <td>X</td>\n",
       "      <td>9.80 km/L</td>\n",
       "      <td>38.70 mpg Imp.</td>\n",
       "      <td>31.76 mpg Imp.</td>\n",
       "      <td>170</td>\n",
=======
       "      <td>BMV</td>\n",
       "      <td>SUBCOMPACT</td>\n",
       "      <td>4.4</td>\n",
       "      <td>NaN</td>\n",
       "      <td>M6</td>\n",
       "      <td>Z</td>\n",
       "      <td>0.17 L/10km</td>\n",
       "      <td>2.03 liters per 100 km</td>\n",
       "      <td>zero</td>\n",
       "      <td>329.0</td>\n",
>>>>>>> Stashed changes
       "    </tr>\n",
       "    <tr>\n",
       "      <th>3</th>\n",
       "      <td>4</td>\n",
<<<<<<< Updated upstream
       "      <td>CHEVO</td>\n",
       "      <td>VAN - PASSENGER</td>\n",
       "      <td>unknown</td>\n",
       "      <td>8.0</td>\n",
       "      <td>A6</td>\n",
       "      <td>X</td>\n",
       "      <td>1.73 L/10km</td>\n",
       "      <td>11.70 liters per 100 km</td>\n",
       "      <td>14.78 liters per 100 km</td>\n",
       "      <td>362</td>\n",
=======
       "      <td>KIO</td>\n",
       "      <td>SUV - SMALL</td>\n",
       "      <td>NaN</td>\n",
       "      <td>4.0</td>\n",
       "      <td>AS6</td>\n",
       "      <td>X</td>\n",
       "      <td>6.52 km per L</td>\n",
       "      <td>1.59 L/10km</td>\n",
       "      <td>NaN</td>\n",
       "      <td>270.0</td>\n",
>>>>>>> Stashed changes
       "    </tr>\n",
       "    <tr>\n",
       "      <th>4</th>\n",
       "      <td>5</td>\n",
<<<<<<< Updated upstream
       "      <td>TOYOTI</td>\n",
       "      <td>COMPACT</td>\n",
       "      <td>1.8</td>\n",
       "      <td>4.0</td>\n",
       "      <td>M6</td>\n",
       "      <td>X</td>\n",
       "      <td>8.10 L/100km</td>\n",
       "      <td>35.76 mpg Imp.</td>\n",
       "      <td>8.01 liters per 100 km</td>\n",
       "      <td>180</td>\n",
=======
       "      <td>BARUSU</td>\n",
       "      <td>MINICOMPACT</td>\n",
       "      <td>3.0</td>\n",
       "      <td>6.0</td>\n",
       "      <td>unspecified</td>\n",
       "      <td>Z</td>\n",
       "      <td>20.15 L/100km</td>\n",
       "      <td>0.60 L/10km</td>\n",
       "      <td>1.38 L/10km</td>\n",
       "      <td>193.0</td>\n",
>>>>>>> Stashed changes
       "    </tr>\n",
       "    <tr>\n",
       "      <th>...</th>\n",
       "      <td>...</td>\n",
       "      <td>...</td>\n",
       "      <td>...</td>\n",
       "      <td>...</td>\n",
       "      <td>...</td>\n",
       "      <td>...</td>\n",
       "      <td>...</td>\n",
       "      <td>...</td>\n",
       "      <td>...</td>\n",
       "      <td>...</td>\n",
       "      <td>...</td>\n",
       "    </tr>\n",
       "    <tr>\n",
       "      <th>54932</th>\n",
       "      <td>54933</td>\n",
       "      <td>CHEVO</td>\n",
       "      <td>SUBCOMPACT</td>\n",
<<<<<<< Updated upstream
       "      <td>6.2</td>\n",
       "      <td>8.0</td>\n",
       "      <td>AS10</td>\n",
       "      <td>Z</td>\n",
       "      <td>11.90 L/100km</td>\n",
       "      <td>11.36 km per L</td>\n",
       "      <td>22.39 MPG (AS)</td>\n",
       "      <td>318</td>\n",
       "    </tr>\n",
       "    <tr>\n",
       "      <th>54933</th>\n",
       "      <td>54934</td>\n",
       "      <td>CHEVO</td>\n",
       "      <td>SUBCOMPACT</td>\n",
       "      <td>3.6</td>\n",
       "      <td>6.0</td>\n",
       "      <td>M6</td>\n",
       "      <td>X</td>\n",
       "      <td>2.10 L/10km</td>\n",
       "      <td>1.06 L/10km</td>\n",
       "      <td>14.41 MPG (AS)</td>\n",
       "      <td>303</td>\n",
       "    </tr>\n",
       "    <tr>\n",
       "      <th>54934</th>\n",
       "      <td>54935</td>\n",
       "      <td>FOLD</td>\n",
       "      <td>TWO-SEATER</td>\n",
       "      <td>3.5</td>\n",
       "      <td>6.0</td>\n",
       "      <td>AM7</td>\n",
       "      <td>Z</td>\n",
       "      <td>18.20 L/100km</td>\n",
       "      <td>12.50 L/100km</td>\n",
       "      <td>15.63 L/100 km</td>\n",
       "      <td>410</td>\n",
       "    </tr>\n",
       "    <tr>\n",
       "      <th>54935</th>\n",
       "      <td>54936</td>\n",
       "      <td>CHEVO</td>\n",
       "      <td>PICKUP TRUCK - STANDARD</td>\n",
       "      <td>6.2</td>\n",
       "      <td>8.0</td>\n",
       "      <td>A8</td>\n",
       "      <td>Z</td>\n",
       "      <td>18.30 L/100 km</td>\n",
       "      <td>9.90 liters per 100 km</td>\n",
       "      <td>14.52 L/100 km</td>\n",
       "      <td>466</td>\n",
       "    </tr>\n",
       "    <tr>\n",
       "      <th>54936</th>\n",
       "      <td>54937</td>\n",
       "      <td>RYUNDAI</td>\n",
       "      <td>FULL-SIZE</td>\n",
       "      <td>2.4</td>\n",
       "      <td>4.0</td>\n",
       "      <td>AS6</td>\n",
       "      <td>X</td>\n",
       "      <td>9.70 L/100 km</td>\n",
       "      <td>32.22 MPG (AS)</td>\n",
       "      <td>not-available</td>\n",
       "      <td>192</td>\n",
       "    </tr>\n",
       "  </tbody>\n",
       "</table>\n",
       "<p>54937 rows × 11 columns</p>\n",
       "</div>"
      ],
      "text/plain": [
       "          Id     Make            Vehicle Class Engine Size(L) Cylinders  \\\n",
       "0          1    MITSU              SUV - SMALL            1.5       4.0   \n",
       "1          2   TOYOTI     PICKUP TRUCK - SMALL  not-available       6.0   \n",
       "2          3  MATSUDA                  COMPACT            2.0       4.0   \n",
       "3          4    CHEVO          VAN - PASSENGER        unknown       8.0   \n",
       "4          5   TOYOTI                  COMPACT            1.8       4.0   \n",
       "...      ...      ...                      ...            ...       ...   \n",
       "54932  54933    CHEVO               SUBCOMPACT            6.2       8.0   \n",
       "54933  54934    CHEVO               SUBCOMPACT            3.6       6.0   \n",
       "54934  54935     FOLD               TWO-SEATER            3.5       6.0   \n",
       "54935  54936    CHEVO  PICKUP TRUCK - STANDARD            6.2       8.0   \n",
       "54936  54937  RYUNDAI                FULL-SIZE            2.4       4.0   \n",
       "\n",
       "      Transmission Fuel Type Fuel Consumption City     Fuel Consumption Hwy  \\\n",
       "0              AV8         X             8.40 km/L              0.72 L/10km   \n",
       "1               A5         X         7.25 km per L             9.70 L/100km   \n",
       "2              AS6         X             9.80 km/L           38.70 mpg Imp.   \n",
       "3               A6         X           1.73 L/10km  11.70 liters per 100 km   \n",
       "4               M6         X          8.10 L/100km           35.76 mpg Imp.   \n",
       "...            ...       ...                   ...                      ...   \n",
       "54932         AS10         Z         11.90 L/100km           11.36 km per L   \n",
       "54933           M6         X           2.10 L/10km              1.06 L/10km   \n",
       "54934          AM7         Z         18.20 L/100km            12.50 L/100km   \n",
       "54935           A8         Z        18.30 L/100 km   9.90 liters per 100 km   \n",
       "54936          AS6         X         9.70 L/100 km           32.22 MPG (AS)   \n",
       "\n",
       "         Fuel Consumption Comb  CO2 Emissions(g/km)  \n",
       "0                  0.98 L/10km                  208  \n",
       "1                11.96 L/100km                  325  \n",
       "2               31.76 mpg Imp.                  170  \n",
       "3      14.78 liters per 100 km                  362  \n",
       "4       8.01 liters per 100 km                  180  \n",
       "...                        ...                  ...  \n",
       "54932           22.39 MPG (AS)                  318  \n",
       "54933           14.41 MPG (AS)                  303  \n",
       "54934           15.63 L/100 km                  410  \n",
       "54935           14.52 L/100 km                  466  \n",
       "54936            not-available                  192  \n",
       "\n",
       "[54937 rows x 11 columns]"
      ]
     },
     "execution_count": 6,
=======
       "      <td>na</td>\n",
       "      <td>8.0</td>\n",
       "      <td>AS8</td>\n",
       "      <td>Z</td>\n",
       "      <td>33.71 L/100 km</td>\n",
       "      <td>12.99 km per L</td>\n",
       "      <td>4.54 km per L</td>\n",
       "      <td>275.0</td>\n",
       "    </tr>\n",
       "    <tr>\n",
       "      <th>137137</th>\n",
       "      <td>137138</td>\n",
       "      <td>GONDA</td>\n",
       "      <td>STATION WAGON - SMALL</td>\n",
       "      <td>1.5</td>\n",
       "      <td>4.0</td>\n",
       "      <td>M6</td>\n",
       "      <td>X</td>\n",
       "      <td>15.41 km per L</td>\n",
       "      <td>0.87 L/100 km</td>\n",
       "      <td>59.38 MPG (AS)</td>\n",
       "      <td>166.0</td>\n",
       "    </tr>\n",
       "    <tr>\n",
       "      <th>137138</th>\n",
       "      <td>137139</td>\n",
       "      <td>NIRRAN</td>\n",
       "      <td>MID-SIZE</td>\n",
       "      <td>1.8</td>\n",
       "      <td>4.0</td>\n",
       "      <td>AV</td>\n",
       "      <td>X</td>\n",
       "      <td>2.99 liters per 100 km</td>\n",
       "      <td>8.38 L/100 km</td>\n",
       "      <td>52.19 mpg Imp.</td>\n",
       "      <td>181.0</td>\n",
       "    </tr>\n",
       "    <tr>\n",
       "      <th>137139</th>\n",
       "      <td>137140</td>\n",
       "      <td>TOYOTI</td>\n",
       "      <td>COMPACT</td>\n",
       "      <td>1.8</td>\n",
       "      <td>4.0</td>\n",
       "      <td>na</td>\n",
       "      <td>X</td>\n",
       "      <td>11.48 L/100km</td>\n",
       "      <td>1275.84 mpg Imp.</td>\n",
       "      <td>0.64 L/10km</td>\n",
       "      <td>123.0</td>\n",
       "    </tr>\n",
       "    <tr>\n",
       "      <th>137140</th>\n",
       "      <td>137141</td>\n",
       "      <td>BARUSU</td>\n",
       "      <td>MID-SIZE</td>\n",
       "      <td>2.5</td>\n",
       "      <td>4.0</td>\n",
       "      <td>AV6</td>\n",
       "      <td>X</td>\n",
       "      <td>3.36 liters per 100 km</td>\n",
       "      <td>0.28 L/10km</td>\n",
       "      <td>32.27 km per L</td>\n",
       "      <td>182.0</td>\n",
       "    </tr>\n",
       "  </tbody>\n",
       "</table>\n",
       "<p>137141 rows × 11 columns</p>\n",
       "</div>"
      ],
      "text/plain": [
       "            Id    Make            Vehicle Class Engine Size(L) Cylinders  \\\n",
       "0            1    FOLD  PICKUP TRUCK - STANDARD            3.5       6.0   \n",
       "1            2   CHEVO  PICKUP TRUCK - STANDARD            5.3       NaN   \n",
       "2            3     BMV               SUBCOMPACT            4.4       NaN   \n",
       "3            4     KIO              SUV - SMALL            NaN       4.0   \n",
       "4            5  BARUSU              MINICOMPACT            3.0       6.0   \n",
       "...        ...     ...                      ...            ...       ...   \n",
       "137136  137137     BMV               SUBCOMPACT             na       8.0   \n",
       "137137  137138   GONDA    STATION WAGON - SMALL            1.5       4.0   \n",
       "137138  137139  NIRRAN                 MID-SIZE            1.8       4.0   \n",
       "137139  137140  TOYOTI                  COMPACT            1.8       4.0   \n",
       "137140  137141  BARUSU                 MID-SIZE            2.5       4.0   \n",
       "\n",
       "       Transmission Fuel Type    Fuel Consumption City  \\\n",
       "0                A6         X   8.64 liters per 100 km   \n",
       "1                A6         E  27.27 liters per 100 km   \n",
       "2                M6         Z              0.17 L/10km   \n",
       "3               AS6         X            6.52 km per L   \n",
       "4       unspecified         Z            20.15 L/100km   \n",
       "...             ...       ...                      ...   \n",
       "137136          AS8         Z           33.71 L/100 km   \n",
       "137137           M6         X           15.41 km per L   \n",
       "137138           AV         X   2.99 liters per 100 km   \n",
       "137139           na         X            11.48 L/100km   \n",
       "137140          AV6         X   3.36 liters per 100 km   \n",
       "\n",
       "           Fuel Consumption Hwy Fuel Consumption Comb  CO2 Emissions(g/km)  \n",
       "0                 6.14 L/100 km        37.59 mpg Imp.                306.0  \n",
       "1       30.76 liters per 100 km        28.84 L/100 km                283.0  \n",
       "2        2.03 liters per 100 km                  zero                329.0  \n",
       "3                   1.59 L/10km                   NaN                270.0  \n",
       "4                   0.60 L/10km           1.38 L/10km                193.0  \n",
       "...                         ...                   ...                  ...  \n",
       "137136           12.99 km per L         4.54 km per L                275.0  \n",
       "137137            0.87 L/100 km        59.38 MPG (AS)                166.0  \n",
       "137138            8.38 L/100 km        52.19 mpg Imp.                181.0  \n",
       "137139         1275.84 mpg Imp.           0.64 L/10km                123.0  \n",
       "137140              0.28 L/10km        32.27 km per L                182.0  \n",
       "\n",
       "[137141 rows x 11 columns]"
      ]
     },
     "execution_count": 124,
>>>>>>> Stashed changes
     "metadata": {},
     "output_type": "execute_result"
    }
   ],
   "source": [
    "df"
   ]
  },
  {
   "cell_type": "code",
<<<<<<< Updated upstream
   "execution_count": 7,
=======
   "execution_count": 125,
>>>>>>> Stashed changes
   "metadata": {},
   "outputs": [],
   "source": [
    "def split_and_add_column(df, column_name):\n",
    "    df[column_name] = df[column_name].astype(str)\n",
    "    df['city_unit'] = df[column_name].apply(lambda x: ' '.join(str(x).split()[1:]) if pd.notna(x) and len(str(x).split()) > 1 else np.nan) \n",
    "    df[column_name] = df[column_name].apply(lambda x: str(x).split()[0] if pd.notna(x) and len(str(x).split()) > 1 else np.nan)"
   ]
  },
  {
   "cell_type": "code",
<<<<<<< Updated upstream
   "execution_count": 10,
=======
   "execution_count": 126,
>>>>>>> Stashed changes
   "metadata": {},
   "outputs": [],
   "source": [
    "def convert_to_L_per_100km(value, unit):\n",
    "    value = float(value)\n",
    "    if unit == 'L/100km':\n",
    "        return value\n",
    "    elif unit == 'L/100 km':\n",
    "        return value\n",
    "    elif unit == 'liters per 100 km':\n",
    "        return value\n",
    "    elif unit == 'MPG (AS)':\n",
    "        return 235.215 / value\n",
    "    elif unit == 'km per L':\n",
    "        return 100 / value\n",
    "    elif unit == 'km/L':\n",
    "        return 100 / value\n",
    "    elif unit == 'L/10km':\n",
    "        return value / 10\n",
    "    elif unit == 'mpg Imp.':\n",
    "        return 235.215 / value\n",
    "    else:\n",
    "        return np.nan"
   ]
  },
  {
   "cell_type": "code",
<<<<<<< Updated upstream
   "execution_count": 11,
=======
   "execution_count": 127,
>>>>>>> Stashed changes
   "metadata": {},
   "outputs": [],
   "source": [
    "def split_and_add_column_hwy(df, column_name):\n",
    "    df[column_name] = df[column_name].astype(str)\n",
    "    df['hwy_unit'] = df[column_name].apply(lambda x: ' '.join(str(x).split()[1:]) if pd.notna(x) and len(str(x).split()) > 1 else np.nan) \n",
    "    df[column_name] = df[column_name].apply(lambda x: str(x).split()[0] if pd.notna(x) and len(str(x).split()) > 1 else np.nan)"
   ]
  },
  {
   "cell_type": "code",
<<<<<<< Updated upstream
   "execution_count": 12,
=======
   "execution_count": 128,
>>>>>>> Stashed changes
   "metadata": {},
   "outputs": [],
   "source": [
    "def split_and_add_column_comb(df, column_name):\n",
    "    df[column_name] = df[column_name].astype(str)\n",
    "    df['comb_unit'] = df[column_name].apply(lambda x: ' '.join(str(x).split()[1:]) if pd.notna(x) and len(str(x).split()) > 1 else np.nan) \n",
    "    df[column_name] = df[column_name].apply(lambda x: str(x).split()[0] if pd.notna(x) and len(str(x).split()) > 1 else np.nan)"
   ]
  },
  {
   "cell_type": "code",
<<<<<<< Updated upstream
   "execution_count": 13,
=======
   "execution_count": 129,
>>>>>>> Stashed changes
   "metadata": {},
   "outputs": [],
   "source": [
    "split_and_add_column(df, 'Fuel Consumption City')\n",
    "df['Fuel Consumption City'] = df['Fuel Consumption City'].astype(float)"
   ]
  },
  {
   "cell_type": "code",
<<<<<<< Updated upstream
   "execution_count": 14,
=======
   "execution_count": 130,
>>>>>>> Stashed changes
   "metadata": {},
   "outputs": [],
   "source": [
    "split_and_add_column_hwy(df, 'Fuel Consumption Hwy')\n",
    "df['Fuel Consumption Hwy'] = df['Fuel Consumption Hwy'].astype(float)"
   ]
  },
  {
   "cell_type": "code",
<<<<<<< Updated upstream
   "execution_count": 15,
=======
   "execution_count": 131,
>>>>>>> Stashed changes
   "metadata": {},
   "outputs": [],
   "source": [
    "split_and_add_column_comb(df, 'Fuel Consumption Comb')\n",
    "df['Fuel Consumption Comb'] = df['Fuel Consumption Comb'].astype(float)"
   ]
  },
  {
   "cell_type": "code",
<<<<<<< Updated upstream
   "execution_count": 16,
=======
   "execution_count": 132,
>>>>>>> Stashed changes
   "metadata": {},
   "outputs": [],
   "source": [
    "df['Fuel Consumption City'] = pd.to_numeric(df['Fuel Consumption City'], errors='coerce')\n",
    "df['Fuel Consumption Hwy'] = pd.to_numeric(df['Fuel Consumption Hwy'], errors='coerce')\n",
    "df['Fuel Consumption Comb'] = pd.to_numeric(df['Fuel Consumption Comb'], errors='coerce')"
   ]
  },
  {
   "cell_type": "code",
<<<<<<< Updated upstream
   "execution_count": 17,
=======
   "execution_count": 133,
>>>>>>> Stashed changes
   "metadata": {},
   "outputs": [],
   "source": [
    "df['Fuel Consumption City']=df['Fuel Consumption City'].fillna(np.nan)\n",
    "df['Fuel Consumption Hwy']=df['Fuel Consumption Hwy'].fillna(np.nan)\n",
    "df['Fuel Consumption Comb']=df['Fuel Consumption Comb'].fillna(np.nan)"
   ]
  },
  {
   "cell_type": "code",
<<<<<<< Updated upstream
   "execution_count": 18,
=======
   "execution_count": 134,
>>>>>>> Stashed changes
   "metadata": {},
   "outputs": [],
   "source": [
    "df['Fuel Consumption City'] = df.apply(lambda row: convert_to_L_per_100km(row['Fuel Consumption City'], row['city_unit']), axis=1)\n",
    "if ~df['city_unit'].isna().all():\n",
    "    df['city_unit'] = 'L/100km'"
   ]
  },
  {
   "cell_type": "code",
<<<<<<< Updated upstream
   "execution_count": 19,
=======
   "execution_count": 135,
>>>>>>> Stashed changes
   "metadata": {},
   "outputs": [],
   "source": [
    "df['Fuel Consumption Hwy'] = df.apply(lambda row: convert_to_L_per_100km(row['Fuel Consumption Hwy'], row['hwy_unit']), axis=1)\n",
    "if ~df['hwy_unit'].isna().all():\n",
    "    df['hwy_unit'] = 'L/100km'\n"
   ]
  },
  {
   "cell_type": "code",
<<<<<<< Updated upstream
   "execution_count": 20,
=======
   "execution_count": 136,
>>>>>>> Stashed changes
   "metadata": {},
   "outputs": [],
   "source": [
    "df['Fuel Consumption Comb'] = df.apply(lambda row: convert_to_L_per_100km(row['Fuel Consumption Comb'], row['comb_unit']), axis=1)\n",
    "if ~df['comb_unit'].isna().all():\n",
    "    df['comb_unit'] = 'L/100km'\n"
   ]
  },
  {
   "cell_type": "code",
<<<<<<< Updated upstream
   "execution_count": 21,
=======
   "execution_count": 137,
>>>>>>> Stashed changes
   "metadata": {},
   "outputs": [
    {
     "name": "stderr",
     "output_type": "stream",
     "text": [
      "<>:2: SyntaxWarning: invalid escape sequence '\\s'\n",
      "<>:2: SyntaxWarning: invalid escape sequence '\\s'\n",
<<<<<<< Updated upstream
      "C:\\Users\\UsEr\\AppData\\Local\\Temp\\ipykernel_16700\\4055265698.py:2: SyntaxWarning: invalid escape sequence '\\s'\n",
=======
      "C:\\Users\\Kenzie Taqiyassar\\AppData\\Local\\Temp\\ipykernel_21408\\4055265698.py:2: SyntaxWarning: invalid escape sequence '\\s'\n",
>>>>>>> Stashed changes
      "  df['Vehicle Class'] = df['Vehicle Class'].str.replace('[^a-zA-Z\\s]', '').str.upper()\n"
     ]
    }
   ],
   "source": [
    "#vehicle class\n",
    "df['Vehicle Class'] = df['Vehicle Class'].str.replace('[^a-zA-Z\\s]', '').str.upper()\n",
    "invalid_values = ['MISSING', '-1', 'NOT-RECORDED', 'NA', 'UNSPECIFIED', 'UNKNOWN', 'UNESTABLISHED', 'NOT-AVAILABLE']\n",
    "df['Vehicle Class'] = df['Vehicle Class'].replace(invalid_values, pd.NA)\n",
    "df['Vehicle Class'].fillna('NA', inplace=True)\n",
    "# Cylinders\n",
    "df['Cylinders'] = pd.to_numeric(df['Cylinders'], errors='coerce')\n",
    "df['Cylinders'] = np.where(df['Cylinders'] < 0, np.nan, df['Cylinders'])\n",
    "df['Cylinders'].fillna(df['Cylinders'].mean(), inplace=True)\n",
    "# Engine Size(L)\n",
    "df['Engine Size(L)'] = pd.to_numeric(df['Engine Size(L)'], errors='coerce')\n",
    "df['Engine Size(L)'] = np.where(df['Engine Size(L)'] < 0, np.nan, df['Engine Size(L)'])\n",
    "df['Engine Size(L)'].fillna(df['Engine Size(L)'].mean(), inplace=True)\n",
    "#transmission\n",
    "transmission_na_values = ['unspecified', 'not-recorded', 'unknown', 'nan', 'missing', 'not-available', 'na', '-1', 'unestablished']\n",
    "df['Transmission'] = df['Transmission'].replace(transmission_na_values, pd.NA)\n",
    "df['Transmission'].fillna(value='NA', inplace=True)\n",
    "\n",
    "#fuel type\n",
    "fueltype_na_values = ['NA', 'D', 'missing', 'unspecified', 'not-recorded',\n",
    "       'unknown', 'unestablished', 'na', 'not-available','-1']\n",
    "df['Fuel Type'] = df['Fuel Type'].replace(fueltype_na_values, pd.NA)\n",
    "df['Fuel Type'].fillna(value='NA', inplace=True)\n",
    "#fuel city\n"
   ]
  },
  {
   "cell_type": "code",
<<<<<<< Updated upstream
   "execution_count": 22,
=======
   "execution_count": 138,
>>>>>>> Stashed changes
   "metadata": {},
   "outputs": [],
   "source": [
    "df['Fuel Consumption City'] = df['Fuel Consumption City'].replace(0, df['Fuel Consumption City'].mean())\n",
    "df['Fuel Consumption Hwy'] = df['Fuel Consumption Hwy'].replace(0, df['Fuel Consumption Hwy'].mean())\n",
    "df['Fuel Consumption Comb'] = df['Fuel Consumption Comb'].replace(0, df['Fuel Consumption Comb'].mean())\n"
   ]
  },
  {
   "cell_type": "code",
<<<<<<< Updated upstream
   "execution_count": 23,
=======
   "execution_count": 139,
>>>>>>> Stashed changes
   "metadata": {},
   "outputs": [],
   "source": [
    "condition = df['Fuel Consumption Comb'].isna() & ~df['Fuel Consumption City'].isna() & ~df['Fuel Consumption Hwy'].isna()\n",
    "df.loc[condition,'Fuel Consumption Comb'] = (0.55 * df['Fuel Consumption City']) + 0.45 * (df['Fuel Consumption Hwy'])\n",
    "\n"
   ]
  },
  {
   "cell_type": "code",
<<<<<<< Updated upstream
   "execution_count": 24,
=======
   "execution_count": 140,
>>>>>>> Stashed changes
   "metadata": {},
   "outputs": [],
   "source": [
    "condition_city = df['Fuel Consumption City'].isna()\n",
    "df.loc[condition_city, 'Fuel Consumption City'] = df['Fuel Consumption City'].where(condition_city) + df['Fuel Consumption Hwy'].where(condition_city)\n",
    "df.loc[condition_city, 'Fuel Consumption City'] = df['Fuel Consumption City'].where(condition_city) + df['Fuel Consumption Comb'].where(condition_city)\n"
   ]
  },
  {
   "cell_type": "code",
<<<<<<< Updated upstream
   "execution_count": 25,
=======
   "execution_count": 141,
>>>>>>> Stashed changes
   "metadata": {},
   "outputs": [],
   "source": [
    "condition_hwy= df['Fuel Consumption Hwy'].isna()\n",
    "df.loc[condition_hwy,'Fuel Consumption Hwy']= df['Fuel Consumption City']\n",
    "df.loc[condition_hwy,'Fuel Consumption Hwy']= df['Fuel Consumption Comb']\n"
   ]
  },
  {
   "cell_type": "code",
<<<<<<< Updated upstream
   "execution_count": 26,
=======
   "execution_count": 142,
>>>>>>> Stashed changes
   "metadata": {},
   "outputs": [],
   "source": [
    "df['Fuel Consumption City'] = df['Fuel Consumption City'].fillna(df['Fuel Consumption City'].mean())"
   ]
  },
  {
   "cell_type": "code",
<<<<<<< Updated upstream
   "execution_count": 27,
=======
   "execution_count": 143,
>>>>>>> Stashed changes
   "metadata": {},
   "outputs": [],
   "source": [
    "df['Fuel Consumption Hwy']=df['Fuel Consumption Hwy'].fillna(df['Fuel Consumption Hwy'].mean())"
   ]
  },
  {
   "cell_type": "code",
<<<<<<< Updated upstream
   "execution_count": 28,
=======
   "execution_count": 144,
>>>>>>> Stashed changes
   "metadata": {},
   "outputs": [],
   "source": [
    "df['Fuel Consumption Comb']=df['Fuel Consumption Comb'].fillna(df['Fuel Consumption Comb'].mean())"
   ]
  },
  {
   "cell_type": "code",
   "execution_count": 145,
   "metadata": {},
   "outputs": [
    {
     "data": {
      "text/plain": [
       "array(['ASURA', 'BARUSU', 'BMV', 'CADILUXE', 'CHEVO', 'DOGE', 'FIAR',\n",
       "       'FOLD', 'FOLKSWA', 'GONDA', 'JIPU', 'KIO', 'LAMBOGI',\n",
       "       'LAND CRAWLER', 'LECUS', 'MATSUDA', 'MITSU', 'NIRRAN', 'RYUNDAI',\n",
       "       'TOLVO', 'TOYOTI'], dtype=object)"
      ]
     },
     "execution_count": 145,
     "metadata": {},
     "output_type": "execute_result"
    }
   ],
   "source": [
    "make_data = df['Make'].unique()\n",
    "make_data.sort()\n",
    "make_data"
   ]
  },
  {
   "cell_type": "code",
   "execution_count": 146,
   "metadata": {},
   "outputs": [
    {
     "data": {
      "text/plain": [
       "array(['PICKUP TRUCK - STANDARD', 'SUBCOMPACT', 'SUV - SMALL',\n",
       "       'MINICOMPACT', 'COMPACT', 'FULL-SIZE', 'SUV - STANDARD', 'MINIVAN',\n",
       "       'STATION WAGON - SMALL', 'NA', 'PICKUP TRUCK - SMALL',\n",
       "       'TWO-SEATER', 'STATION WAGON - MID-SIZE', 'MID-SIZE',\n",
       "       'SPECIAL PURPOSE VEHICLE', 'VAN - PASSENGER', 'VAN - CARGO'],\n",
       "      dtype=object)"
      ]
     },
     "execution_count": 146,
     "metadata": {},
     "output_type": "execute_result"
    }
   ],
   "source": [
    "vehicle_class_data = df['Vehicle Class'].unique()\n",
    "vehicle_class_data"
   ]
  },
  {
   "cell_type": "code",
   "execution_count": 147,
   "metadata": {},
   "outputs": [
    {
     "name": "stdout",
     "output_type": "stream",
     "text": [
      "[3.5        5.3        4.4        2.98919492 3.         1.8\n",
      " 2.         3.6        2.5        2.4        2.3        1.4\n",
      " 1.6        5.         1.3        6.2        4.8        2.7\n",
      " 6.         3.2        6.5        5.7        3.7        1.2\n",
      " 4.         3.3        1.5        5.2        3.8        2.8\n",
      " 4.6        6.4        4.3        6.6        5.4        1.\n",
      " 5.6        5.8        8.4        3.4        4.2        6.8\n",
      " 2.2       ]\n"
     ]
    }
   ],
   "source": [
    "engine_size_data = df['Engine Size(L)'].unique()\n",
    "print(engine_size_data)"
   ]
  },
  {
   "cell_type": "code",
   "execution_count": 148,
   "metadata": {},
   "outputs": [
    {
     "data": {
      "text/plain": [
       "array([ 6.        ,  5.15751356,  4.        ,  8.        , 12.        ,\n",
       "        3.        ,  5.        , 10.        ])"
      ]
     },
     "execution_count": 148,
     "metadata": {},
     "output_type": "execute_result"
    }
   ],
   "source": [
    "cylinders_data = df['Cylinders'].unique()\n",
    "cylinders_data"
   ]
  },
  {
   "cell_type": "code",
   "execution_count": 149,
   "metadata": {},
   "outputs": [
    {
     "data": {
      "text/plain": [
       "array(['A6', 'M6', 'AS6', 'NA', 'AV7', 'AS8', 'A9', 'AV', 'AV8', 'M5',\n",
       "       'A8', 'AV6', 'AS10', 'AM7', 'A4', 'A5', 'AS7', 'AM6', 'AS5', 'AS9',\n",
       "       'AM9', 'AV10', 'AM8', 'M7', 'A10', 'A7'], dtype=object)"
      ]
     },
     "execution_count": 149,
     "metadata": {},
     "output_type": "execute_result"
    }
   ],
   "source": [
    "transmission_data = df['Transmission'].unique()\n",
    "transmission_data"
   ]
  },
  {
   "cell_type": "code",
   "execution_count": 150,
   "metadata": {},
   "outputs": [
    {
     "data": {
      "text/plain": [
       "array(['X', 'E', 'Z', 'NA', 'N'], dtype=object)"
      ]
     },
     "execution_count": 150,
     "metadata": {},
     "output_type": "execute_result"
    }
   ],
   "source": [
    "fuel_type_data = df['Fuel Type'].unique()\n",
    "fuel_type_data"
   ]
  },
  {
   "cell_type": "code",
   "execution_count": 151,
   "metadata": {},
   "outputs": [
    {
     "name": "stdout",
     "output_type": "stream",
     "text": [
      "[8.64000000e+00 2.72700000e+01 1.70000000e-02 ... 3.63547141e+01\n",
      " 4.35200000e+01 3.37100000e+01]\n"
     ]
    }
   ],
   "source": [
    "fuel_city_data = df['Fuel Consumption City'].unique()\n",
    "print(fuel_city_data)"
   ]
  },
  {
   "cell_type": "code",
<<<<<<< Updated upstream
   "execution_count": null,
   "metadata": {},
   "outputs": [],
   "source": [
    "df['CO2 Emissions(g/km)'].plot()"
   ]
  },
  {
   "cell_type": "code",
   "execution_count": null,
   "metadata": {},
   "outputs": [],
   "source": [
    "df_train = pd.read_csv('train.csv')\n",
    "df_city_train = df_train['Fuel Consumption City']\n",
    "df_city_train.to_csv('city_train.csv', index=False)\n"
   ]
  },
  {
   "cell_type": "code",
   "execution_count": null,
   "metadata": {},
   "outputs": [],
   "source": [
    "df_train = pd.read_csv('train.csv')\n",
    "df_city_train = df_train['Fuel Consumption Hwy']\n",
    "df_city_train.to_csv('hwy_train.csv', index=False)"
   ]
  },
  {
   "cell_type": "code",
   "execution_count": null,
   "metadata": {},
   "outputs": [],
   "source": [
    "df_cleaned = pd.read_csv('city_train.csv')\n",
    "df_cleaned_city = df_cleaned['Fuel Consumption City'].split()[1]\n",
    "df_cleaned_city"
   ]
  },
  {
   "cell_type": "code",
   "execution_count": 29,
=======
   "execution_count": 152,
>>>>>>> Stashed changes
   "metadata": {},
   "outputs": [],
   "source": [
    "df.rename(columns={'Fuel Consumption City': 'Fuel Consumption City (L/100km)',\n",
    "                   'Fuel Consumption Hwy': 'Fuel Consumption Hwy (L/100km)',\n",
    "                   'Fuel Consumption Comb': 'Fuel Consumption Comb (L/100km)'}, inplace=True)\n",
    "\n",
    "df.drop(['city_unit', 'hwy_unit', 'comb_unit'], axis=1, inplace=True)\n",
    "df.to_csv('cleaned_train.csv', index=False)"
   ]
  },
  {
   "cell_type": "code",
   "execution_count": 153,
   "metadata": {},
   "outputs": [],
   "source": [
    "df.to_csv('cleaned_train.csv', index=False)"
   ]
  }
 ],
 "metadata": {
  "kernelspec": {
   "display_name": "Python 3",
   "language": "python",
   "name": "python3"
  },
  "language_info": {
   "codemirror_mode": {
    "name": "ipython",
    "version": 3
   },
   "file_extension": ".py",
   "mimetype": "text/x-python",
   "name": "python",
   "nbconvert_exporter": "python",
   "pygments_lexer": "ipython3",
   "version": "3.12.1"
  },
  "orig_nbformat": 4
 },
 "nbformat": 4,
 "nbformat_minor": 2
}
