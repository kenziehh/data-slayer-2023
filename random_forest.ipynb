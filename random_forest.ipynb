{
 "cells": [
  {
   "cell_type": "code",
   "execution_count": 2,
   "metadata": {},
   "outputs": [],
   "source": [
    "import pandas as pd"
   ]
  },
  {
   "cell_type": "code",
   "execution_count": 11,
   "metadata": {},
   "outputs": [],
   "source": [
    "from sklearn.model_selection import train_test_split\n",
    "from sklearn.ensemble import RandomForestRegressor\n",
    "from sklearn.metrics import mean_absolute_error, mean_squared_error, r2_score\n",
    "from sklearn.preprocessing import StandardScaler\n",
    "import pandas as pd\n",
    "\n",
    "# Load the training dataset\n",
    "df_train = pd.read_csv('cleaned_train.csv')\n",
    "\n",
    "# Load the testing dataset\n",
    "df_test = pd.read_csv('cleaned_test.csv')\n",
    "\n",
    "# Combine training and testing data for preprocessing\n",
    "df_combined = pd.concat([df_train, df_test], axis=0, ignore_index=True)\n",
    "\n",
    "# Data preprocessing\n",
    "X_combined = df_combined.drop(['CO2 Emissions(g/km)'], axis=1)\n",
    "y_combined = df_combined['CO2 Emissions(g/km)']\n",
    "\n",
    "# One-hot encode categorical variables\n",
    "X_combined = pd.get_dummies(X_combined)\n",
    "\n",
    "# Standardize the data (optional but can be beneficial for some models)\n",
    "scaler = StandardScaler()\n",
    "X_combined_scaled = scaler.fit_transform(X_combined)\n",
    "\n",
    "# Split the data back into training and testing sets\n",
    "X_train_scaled = X_combined_scaled[:len(df_train)]\n",
    "X_test_scaled = X_combined_scaled[len(df_train):]\n",
    "\n",
    "# Target variable for training\n",
    "y_train = y_combined[:len(df_train)]\n",
    "\n",
    "# Choose a regression model (Random Forest in this example)\n",
    "model = RandomForestRegressor(n_estimators=100, random_state=42)\n",
    "\n",
    "# Train the model with all available data\n",
    "model.fit(X_train_scaled, y_train)\n",
    "\n",
    "# Make predictions on the test set\n",
    "y_pred = model.predict(X_test_scaled)\n",
    "\n",
    "# Since this is a test set, you might use the predictions as needed for your specific use case.\n",
    "# You might save the predictions to a file or use them for further analysis.\n",
    "\n",
    "# Note: You may need to adjust the code based on the specifics of your datasets and problem.\n",
    "df_test['CO2 Emissions(g/km)'] = y_pred\n",
    "\n",
    "# Create a DataFrame with 'Id' and 'CO2 Emissions(g/km)' columns\n",
    "result_df = df_test[['Id', 'CO2 Emissions(g/km)']]\n",
    "\n",
    "# Save the result to a CSV file\n",
    "result_df.to_csv('submission6.csv', index=False)"
   ]
  },
  {
   "cell_type": "code",
   "execution_count": 12,
   "metadata": {},
   "outputs": [],
   "source": [
    "df = pd.read_csv('submission6.csv')\n",
    "\n",
    "# Mengubah format kolom CO2 Emissions(g/km) menjadi satu angka dibelakang koma\n",
    "df['CO2 Emissions(g/km)'] = df['CO2 Emissions(g/km)'].round(1)\n",
    "\n",
    "# Menyimpan dataframe yang telah diubah ke dalam file CSV baru\n",
    "df.to_csv('submission.csv', index=False)"
   ]
  }
 ],
 "metadata": {
  "kernelspec": {
   "display_name": "Python 3",
   "language": "python",
   "name": "python3"
  },
  "language_info": {
   "codemirror_mode": {
    "name": "ipython",
    "version": 3
   },
   "file_extension": ".py",
   "mimetype": "text/x-python",
   "name": "python",
   "nbconvert_exporter": "python",
   "pygments_lexer": "ipython3",
   "version": "3.12.0"
  },
  "orig_nbformat": 4
 },
 "nbformat": 4,
 "nbformat_minor": 2
}
