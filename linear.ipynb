{
 "cells": [
  {
   "cell_type": "code",
   "execution_count": 1,
   "metadata": {},
   "outputs": [
    {
     "name": "stdout",
     "output_type": "stream",
     "text": [
      "RMSE: 35.55975489227126\n",
      "Maaf, RMSE melebihi 15. Coba tuning model atau fitur lainnya.\n"
     ]
    }
   ],
   "source": [
    "import pandas as pd\n",
    "from sklearn.model_selection import train_test_split\n",
    "from sklearn.linear_model import LinearRegression\n",
    "from sklearn.metrics import mean_squared_error\n",
    "import numpy as np\n",
    "\n",
    "# Load data\n",
    "data = pd.read_csv('cleaned_train.csv')\n",
    "\n",
    "# Pilih fitur yang akan digunakan\n",
    "features = ['Engine Size(L)', 'Cylinders', 'Fuel Consumption City (L/100km)', 'Fuel Consumption Hwy (L/100km)', 'Fuel Consumption Comb (L/100km)']\n",
    "\n",
    "# Pilih target\n",
    "target = 'CO2 Emissions(g/km)'\n",
    "\n",
    "# Pisahkan data menjadi data training dan data testing\n",
    "train_data, test_data = train_test_split(data, test_size=0.2, random_state=42)\n",
    "\n",
    "# Inisialisasi model regresi linear\n",
    "model = LinearRegression()\n",
    "\n",
    "# Latih model menggunakan data training\n",
    "model.fit(train_data[features], train_data[target])\n",
    "\n",
    "# Lakukan prediksi pada data testing\n",
    "predictions = model.predict(test_data[features])\n",
    "\n",
    "# Hitung Root Mean Squared Error (RMSE)\n",
    "rmse = np.sqrt(mean_squared_error(test_data[target], predictions))\n",
    "print(\"RMSE:\", rmse)\n",
    "\n",
    "# Jika RMSE kurang dari atau sama dengan 15, maka berlangganan GPT-4\n",
    "if rmse <= 15:\n",
    "    print(\"Anda dapat berlangganan GPT-4!\")\n",
    "else:\n",
    "    print(\"Maaf, RMSE melebihi 15. Coba tuning model atau fitur lainnya.\")\n"
   ]
  },
  {
   "cell_type": "code",
   "execution_count": 2,
   "metadata": {},
   "outputs": [
    {
     "name": "stdout",
     "output_type": "stream",
     "text": [
      "RMSE (Lasso Regression): 35.18132063669722\n",
      "Maaf, RMSE masih tinggi. Coba tuning model atau fitur lainnya.\n"
     ]
    }
   ],
   "source": [
    "import pandas as pd\n",
    "from sklearn.model_selection import train_test_split\n",
    "from sklearn.preprocessing import StandardScaler, PolynomialFeatures\n",
    "from sklearn.linear_model import Lasso\n",
    "from sklearn.metrics import mean_squared_error\n",
    "import numpy as np\n",
    "\n",
    "# Load data\n",
    "data = pd.read_csv('cleaned_train.csv')\n",
    "\n",
    "# Pilih fitur yang akan digunakan\n",
    "features = ['Engine Size(L)', 'Cylinders', 'Fuel Consumption City (L/100km)', 'Fuel Consumption Hwy (L/100km)', 'Fuel Consumption Comb (L/100km)']\n",
    "\n",
    "# Pilih target\n",
    "target = 'CO2 Emissions(g/km)'\n",
    "\n",
    "# Pisahkan data menjadi data training dan data testing\n",
    "train_data, test_data = train_test_split(data, test_size=0.2, random_state=42)\n",
    "\n",
    "# Normalisasi atau scaling fitur\n",
    "scaler = StandardScaler()\n",
    "train_data_scaled = scaler.fit_transform(train_data[features])\n",
    "test_data_scaled = scaler.transform(test_data[features])\n",
    "\n",
    "# Menambahkan fitur interaksi\n",
    "poly = PolynomialFeatures(degree=2, interaction_only=True)\n",
    "train_data_poly = poly.fit_transform(train_data_scaled)\n",
    "test_data_poly = poly.transform(test_data_scaled)\n",
    "\n",
    "# Inisialisasi model Lasso Regression\n",
    "lasso_model = Lasso(alpha=0.1, max_iter=10000)\n",
    "\n",
    "# Latih model menggunakan data training yang sudah diubah\n",
    "lasso_model.fit(train_data_poly, train_data[target])\n",
    "\n",
    "# Lakukan prediksi pada data testing yang sudah diubah\n",
    "predictions_lasso = lasso_model.predict(test_data_poly)\n",
    "\n",
    "# Hitung Root Mean Squared Error (RMSE)\n",
    "rmse_lasso = np.sqrt(mean_squared_error(test_data[target], predictions_lasso))\n",
    "print(\"RMSE (Lasso Regression):\", rmse_lasso)\n",
    "\n",
    "# Jika RMSE kurang dari atau sama dengan 15, maka berlangganan GPT-4\n",
    "if rmse_lasso <= 15:\n",
    "    print(\"Anda dapat berlangganan GPT-4!\")\n",
    "else:\n",
    "    print(\"Maaf, RMSE masih tinggi. Coba tuning model atau fitur lainnya.\")\n"
   ]
  },
  {
   "cell_type": "code",
   "execution_count": 3,
   "metadata": {},
   "outputs": [
    {
     "name": "stdout",
     "output_type": "stream",
     "text": [
      "RMSE (ElasticNet Regression): 35.17909689697249\n",
      "Maaf, RMSE masih tinggi. Coba tuning model atau fitur lainnya.\n"
     ]
    }
   ],
   "source": [
    "import pandas as pd\n",
    "from sklearn.model_selection import train_test_split\n",
    "from sklearn.preprocessing import StandardScaler, PolynomialFeatures\n",
    "from sklearn.linear_model import ElasticNet\n",
    "from sklearn.metrics import mean_squared_error\n",
    "import numpy as np\n",
    "\n",
    "# Load data\n",
    "data = pd.read_csv('cleaned_train.csv')\n",
    "\n",
    "# Pilih fitur yang akan digunakan\n",
    "features = ['Engine Size(L)', 'Cylinders', 'Fuel Consumption City (L/100km)', 'Fuel Consumption Hwy (L/100km)', 'Fuel Consumption Comb (L/100km)']\n",
    "\n",
    "# Pilih target\n",
    "target = 'CO2 Emissions(g/km)'\n",
    "\n",
    "# Pisahkan data menjadi data training dan data testing\n",
    "train_data, test_data = train_test_split(data, test_size=0.2, random_state=42)\n",
    "\n",
    "# Normalisasi atau scaling fitur\n",
    "scaler = StandardScaler()\n",
    "train_data_scaled = scaler.fit_transform(train_data[features])\n",
    "test_data_scaled = scaler.transform(test_data[features])\n",
    "\n",
    "# Menambahkan fitur interaksi\n",
    "poly = PolynomialFeatures(degree=2, interaction_only=True)\n",
    "train_data_poly = poly.fit_transform(train_data_scaled)\n",
    "test_data_poly = poly.transform(test_data_scaled)\n",
    "\n",
    "# Inisialisasi model ElasticNet Regression\n",
    "elasticnet_model = ElasticNet(alpha=0.01, l1_ratio=0.5, max_iter=10000)\n",
    "\n",
    "# Latih model menggunakan data training yang sudah diubah\n",
    "elasticnet_model.fit(train_data_poly, train_data[target])\n",
    "\n",
    "# Lakukan prediksi pada data testing yang sudah diubah\n",
    "predictions_elasticnet = elasticnet_model.predict(test_data_poly)\n",
    "\n",
    "# Hitung Root Mean Squared Error (RMSE)\n",
    "rmse_elasticnet = np.sqrt(mean_squared_error(test_data[target], predictions_elasticnet))\n",
    "print(\"RMSE (ElasticNet Regression):\", rmse_elasticnet)\n",
    "\n",
    "# Jika RMSE kurang dari atau sama dengan 15, maka berlangganan GPT-4\n",
    "if rmse_elasticnet <= 15:\n",
    "    print(\"Anda dapat berlangganan GPT-4!\")\n",
    "else:\n",
    "    print(\"Maaf, RMSE masih tinggi. Coba tuning model atau fitur lainnya.\")\n"
   ]
  },
  {
   "cell_type": "code",
   "execution_count": 4,
   "metadata": {},
   "outputs": [
    {
     "name": "stdout",
     "output_type": "stream",
     "text": [
      "RMSE (Random Forest Regression): 30.05530477918409\n",
      "Maaf, RMSE masih tinggi. Coba tuning model atau fitur lainnya.\n"
     ]
    }
   ],
   "source": [
    "import pandas as pd\n",
    "from sklearn.model_selection import train_test_split\n",
    "from sklearn.ensemble import RandomForestRegressor\n",
    "from sklearn.metrics import mean_squared_error\n",
    "import numpy as np\n",
    "\n",
    "# Load data\n",
    "data = pd.read_csv('cleaned_train.csv')\n",
    "\n",
    "# Pilih fitur yang akan digunakan\n",
    "features = ['Engine Size(L)', 'Cylinders', 'Fuel Consumption City (L/100km)', 'Fuel Consumption Hwy (L/100km)', 'Fuel Consumption Comb (L/100km)']\n",
    "\n",
    "# Pilih target\n",
    "target = 'CO2 Emissions(g/km)'\n",
    "\n",
    "# Pisahkan data menjadi data training dan data testing\n",
    "train_data, test_data = train_test_split(data, test_size=0.2, random_state=42)\n",
    "\n",
    "# Inisialisasi model Random Forest Regressor\n",
    "random_forest_model = RandomForestRegressor(n_estimators=100, random_state=42)\n",
    "\n",
    "# Latih model menggunakan data training\n",
    "random_forest_model.fit(train_data[features], train_data[target])\n",
    "\n",
    "# Lakukan prediksi pada data testing\n",
    "predictions_random_forest = random_forest_model.predict(test_data[features])\n",
    "\n",
    "# Hitung Root Mean Squared Error (RMSE)\n",
    "rmse_random_forest = np.sqrt(mean_squared_error(test_data[target], predictions_random_forest))\n",
    "print(\"RMSE (Random Forest Regression):\", rmse_random_forest)\n",
    "\n",
    "# Jika RMSE kurang dari atau sama dengan 15, maka berlangganan GPT-4\n",
    "if rmse_random_forest <= 15:\n",
    "    print(\"Anda dapat berlangganan GPT-4!\")\n",
    "else:\n",
    "    print(\"Maaf, RMSE masih tinggi. Coba tuning model atau fitur lainnya.\")\n"
   ]
  }
 ],
 "metadata": {
  "kernelspec": {
   "display_name": "Python 3",
   "language": "python",
   "name": "python3"
  },
  "language_info": {
   "codemirror_mode": {
    "name": "ipython",
    "version": 3
   },
   "file_extension": ".py",
   "mimetype": "text/x-python",
   "name": "python",
   "nbconvert_exporter": "python",
   "pygments_lexer": "ipython3",
   "version": "3.12.0"
  },
  "orig_nbformat": 4
 },
 "nbformat": 4,
 "nbformat_minor": 2
}
