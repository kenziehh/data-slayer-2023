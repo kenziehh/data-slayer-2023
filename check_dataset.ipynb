{
 "cells": [
  {
   "cell_type": "code",
   "execution_count": 12,
   "metadata": {},
   "outputs": [
    {
     "name": "stdout",
     "output_type": "stream",
     "text": [
      "Jumlah baris yang berbeda: 7466\n"
     ]
    }
   ],
   "source": [
    "import pandas as pd\n",
    "\n",
    "cleaned_train = pd.read_csv('cleaned_train.csv')\n",
    "train_cleaned = pd.read_csv('train_cleaned.csv')\n",
    "\n",
    "# differences = cleaned_train[cleaned_train['Fuel Consumption City (L/100km)'] != train_cleaned['Fuel Consumption City (L/100km)']]\n",
    "#9523                     ]\n",
    "# differences = cleaned_train[cleaned_train['Fuel Consumption Hwy (L/100km)'] != train_cleaned['Fuel Consumption Hwy (L/100km)']]\n",
    "#8673\n",
    "differences = cleaned_train[cleaned_train['Fuel Consumption Comb (L/100km)'] != train_cleaned['Fuel Consumption Comb (L/100km)']]\n",
    "#7466\n",
    "# differences = cleaned_train[cleaned_train['CO2 Emissions(g/km)'] != train_cleaned['CO2 Emissions(g/km)']]\n",
    "\n",
    "num_differences = len(differences)\n",
    "print(f\"Jumlah baris yang berbeda: {num_differences}\")"
   ]
  }
 ],
 "metadata": {
  "kernelspec": {
   "display_name": "Python 3",
   "language": "python",
   "name": "python3"
  },
  "language_info": {
   "codemirror_mode": {
    "name": "ipython",
    "version": 3
   },
   "file_extension": ".py",
   "mimetype": "text/x-python",
   "name": "python",
   "nbconvert_exporter": "python",
   "pygments_lexer": "ipython3",
   "version": "3.12.1"
  }
 },
 "nbformat": 4,
 "nbformat_minor": 2
}
