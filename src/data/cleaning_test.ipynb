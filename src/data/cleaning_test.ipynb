{
 "cells": [
  {
   "cell_type": "code",
   "execution_count": 1,
   "metadata": {},
   "outputs": [],
   "source": [
    "import pandas as pd\n",
    "import numpy as np"
   ]
  },
  {
   "cell_type": "code",
   "execution_count": 2,
   "metadata": {},
   "outputs": [],
   "source": [
    "data = 'train.csv'"
   ]
  },
  {
   "cell_type": "code",
   "execution_count": 3,
   "metadata": {},
   "outputs": [],
   "source": [
    "df = pd.read_csv(data)"
   ]
  },
  {
   "cell_type": "code",
   "execution_count": 28,
   "metadata": {},
   "outputs": [
    {
     "name": "stdout",
     "output_type": "stream",
     "text": [
      "<class 'pandas.core.frame.DataFrame'>\n",
      "RangeIndex: 23545 entries, 0 to 23544\n",
      "Data columns (total 10 columns):\n",
      " #   Column                           Non-Null Count  Dtype  \n",
      "---  ------                           --------------  -----  \n",
      " 0   Id                               23545 non-null  int64  \n",
      " 1   Make                             23545 non-null  object \n",
      " 2   Vehicle Class                    23545 non-null  object \n",
      " 3   Engine Size(L)                   23545 non-null  float64\n",
      " 4   Cylinders                        23545 non-null  float64\n",
      " 5   Transmission                     23545 non-null  object \n",
      " 6   Fuel Type                        23545 non-null  object \n",
      " 7   Fuel Consumption City (L/100km)  23545 non-null  float64\n",
      " 8   Fuel Consumption Hwy (L/100km)   23545 non-null  float64\n",
      " 9   Fuel Consumption Comb (L/100km)  23545 non-null  float64\n",
      "dtypes: float64(5), int64(1), object(4)\n",
      "memory usage: 1.8+ MB\n"
     ]
    }
   ],
   "source": [
    "df.info()"
   ]
  },
  {
   "cell_type": "code",
   "execution_count": 29,
   "metadata": {},
   "outputs": [
    {
     "data": {
      "text/plain": [
       "Id                                 0\n",
       "Make                               0\n",
       "Vehicle Class                      0\n",
       "Engine Size(L)                     0\n",
       "Cylinders                          0\n",
       "Transmission                       0\n",
       "Fuel Type                          0\n",
       "Fuel Consumption City (L/100km)    0\n",
       "Fuel Consumption Hwy (L/100km)     0\n",
       "Fuel Consumption Comb (L/100km)    0\n",
       "dtype: int64"
      ]
     },
     "execution_count": 29,
     "metadata": {},
     "output_type": "execute_result"
    }
   ],
   "source": [
    "missing_value = df.isnull().sum()\n",
    "missing_value[0:11]"
   ]
  },
  {
   "cell_type": "code",
   "execution_count": 6,
   "metadata": {},
   "outputs": [
    {
     "name": "stderr",
     "output_type": "stream",
     "text": [
      "<>:2: SyntaxWarning: invalid escape sequence '\\s'\n",
      "<>:2: SyntaxWarning: invalid escape sequence '\\s'\n",
      "C:\\Users\\UsEr\\AppData\\Local\\Temp\\ipykernel_16880\\4055265698.py:2: SyntaxWarning: invalid escape sequence '\\s'\n",
      "  df['Vehicle Class'] = df['Vehicle Class'].str.replace('[^a-zA-Z\\s]', '').str.upper()\n"
     ]
    }
   ],
   "source": [
    "#vehicle class\n",
    "df['Vehicle Class'] = df['Vehicle Class'].str.replace('[^a-zA-Z\\s]', '').str.upper()\n",
    "invalid_values = ['MISSING', '-1', 'NOT-RECORDED', 'NA', 'UNSPECIFIED', 'UNKNOWN', 'UNESTABLISHED', 'NOT-AVAILABLE']\n",
    "df['Vehicle Class'] = df['Vehicle Class'].replace(invalid_values, pd.NA)\n",
    "df['Vehicle Class'].fillna('NA', inplace=True)\n",
    "# Cylinders\n",
    "df['Cylinders'] = pd.to_numeric(df['Cylinders'], errors='coerce')\n",
    "df['Cylinders'] = np.where(df['Cylinders'] < 0, np.nan, df['Cylinders'])\n",
    "df['Cylinders'].fillna(df['Cylinders'].mean(), inplace=True)\n",
    "# Engine Size(L)\n",
    "df['Engine Size(L)'] = pd.to_numeric(df['Engine Size(L)'], errors='coerce')\n",
    "df['Engine Size(L)'] = np.where(df['Engine Size(L)'] < 0, np.nan, df['Engine Size(L)'])\n",
    "df['Engine Size(L)'].fillna(df['Engine Size(L)'].mean(), inplace=True)\n",
    "#transmission\n",
    "transmission_na_values = ['unspecified', 'not-recorded', 'unknown', 'nan', 'missing', 'not-available', 'na', '-1', 'unestablished']\n",
    "df['Transmission'] = df['Transmission'].replace(transmission_na_values, pd.NA)\n",
    "df['Transmission'].fillna(value='NA', inplace=True)\n",
    "\n",
    "#fuel type\n",
    "fueltype_na_values = ['NA', 'D', 'missing', 'unspecified', 'not-recorded',\n",
    "       'unknown', 'unestablished', 'na', 'not-available','-1']\n",
    "df['Fuel Type'] = df['Fuel Type'].replace(fueltype_na_values, pd.NA)\n",
    "df['Fuel Type'].fillna(value='NA', inplace=True)\n",
    "#fuel city\n"
   ]
  },
  {
   "cell_type": "code",
   "execution_count": 7,
   "metadata": {},
   "outputs": [],
   "source": [
    "def split_and_add_column(df, column_name):\n",
    "    df[column_name] = df[column_name].astype(str)\n",
    "    df['city_unit'] = df[column_name].apply(lambda x: ' '.join(str(x).split()[1:]) if pd.notna(x) and len(str(x).split()) > 1 else np.nan) \n",
    "    df[column_name] = df[column_name].apply(lambda x: str(x).split()[0] if pd.notna(x) and len(str(x).split()) > 1 else np.nan)"
   ]
  },
  {
   "cell_type": "code",
   "execution_count": 9,
   "metadata": {},
   "outputs": [],
   "source": [
    "def convert_to_L_per_100km(value, unit):\n",
    "    value = float(value)\n",
    "    if unit == 'L/100km':\n",
    "        return value\n",
    "    elif unit == 'L/100 km':\n",
    "        return value\n",
    "    elif unit == 'liters per 100 km':\n",
    "        return value\n",
    "    elif unit == 'MPG (AS)':\n",
    "        return 235.215 / value\n",
    "    elif unit == 'km per L':\n",
    "        return 100 / value\n",
    "    elif unit == 'km/L':\n",
    "        return 100 / value\n",
    "    elif unit == 'L/10km':\n",
    "        return value / 10\n",
    "    elif unit == 'mpg Imp.':\n",
    "        return 235.215 / value\n",
    "    else:\n",
    "        return np.nan"
   ]
  },
  {
   "cell_type": "code",
   "execution_count": 10,
   "metadata": {},
   "outputs": [],
   "source": [
    "def split_and_add_column_hwy(df, column_name):\n",
    "    df[column_name] = df[column_name].astype(str)\n",
    "    df['hwy_unit'] = df[column_name].apply(lambda x: ' '.join(str(x).split()[1:]) if pd.notna(x) and len(str(x).split()) > 1 else np.nan) \n",
    "    df[column_name] = df[column_name].apply(lambda x: str(x).split()[0] if pd.notna(x) and len(str(x).split()) > 1 else np.nan)"
   ]
  },
  {
   "cell_type": "code",
   "execution_count": 11,
   "metadata": {},
   "outputs": [],
   "source": [
    "def split_and_add_column_comb(df, column_name):\n",
    "    df[column_name] = df[column_name].astype(str)\n",
    "    df['comb_unit'] = df[column_name].apply(lambda x: ' '.join(str(x).split()[1:]) if pd.notna(x) and len(str(x).split()) > 1 else np.nan) \n",
    "    df[column_name] = df[column_name].apply(lambda x: str(x).split()[0] if pd.notna(x) and len(str(x).split()) > 1 else np.nan)"
   ]
  },
  {
   "cell_type": "code",
   "execution_count": 12,
   "metadata": {},
   "outputs": [],
   "source": [
    "split_and_add_column(df, 'Fuel Consumption City')\n",
    "df['Fuel Consumption City'] = df['Fuel Consumption City'].astype(float)"
   ]
  },
  {
   "cell_type": "code",
   "execution_count": 13,
   "metadata": {},
   "outputs": [],
   "source": [
    "split_and_add_column_hwy(df, 'Fuel Consumption Hwy')\n",
    "df['Fuel Consumption Hwy'] = df['Fuel Consumption Hwy'].astype(float)"
   ]
  },
  {
   "cell_type": "code",
   "execution_count": 14,
   "metadata": {},
   "outputs": [],
   "source": [
    "split_and_add_column_comb(df, 'Fuel Consumption Comb')\n",
    "df['Fuel Consumption Comb'] = df['Fuel Consumption Comb'].astype(float)"
   ]
  },
  {
   "cell_type": "code",
   "execution_count": 15,
   "metadata": {},
   "outputs": [],
   "source": [
    "df['Fuel Consumption City'] = pd.to_numeric(df['Fuel Consumption City'], errors='coerce')\n",
    "df['Fuel Consumption Hwy'] = pd.to_numeric(df['Fuel Consumption Hwy'], errors='coerce')\n",
    "df['Fuel Consumption Comb'] = pd.to_numeric(df['Fuel Consumption Comb'], errors='coerce')"
   ]
  },
  {
   "cell_type": "code",
   "execution_count": 16,
   "metadata": {},
   "outputs": [],
   "source": [
    "df['Fuel Consumption City']=df['Fuel Consumption City'].fillna(np.nan)\n",
    "df['Fuel Consumption Hwy']=df['Fuel Consumption Hwy'].fillna(np.nan)\n",
    "df['Fuel Consumption Comb']=df['Fuel Consumption Comb'].fillna(np.nan)"
   ]
  },
  {
   "cell_type": "code",
   "execution_count": 17,
   "metadata": {},
   "outputs": [],
   "source": [
    "df['Fuel Consumption City'] = df.apply(lambda row: convert_to_L_per_100km(row['Fuel Consumption City'], row['city_unit']), axis=1)\n",
    "if ~df['city_unit'].isna().all():\n",
    "    df['city_unit'] = 'L/100km'"
   ]
  },
  {
   "cell_type": "code",
   "execution_count": 18,
   "metadata": {},
   "outputs": [],
   "source": [
    "df['Fuel Consumption Hwy'] = df.apply(lambda row: convert_to_L_per_100km(row['Fuel Consumption Hwy'], row['hwy_unit']), axis=1)\n",
    "if ~df['hwy_unit'].isna().all():\n",
    "    df['hwy_unit'] = 'L/100km'"
   ]
  },
  {
   "cell_type": "code",
   "execution_count": 19,
   "metadata": {},
   "outputs": [],
   "source": [
    "df['Fuel Consumption Comb'] = df.apply(lambda row: convert_to_L_per_100km(row['Fuel Consumption Comb'], row['comb_unit']), axis=1)\n",
    "if ~df['comb_unit'].isna().all():\n",
    "    df['comb_unit'] = 'L/100km'\n"
   ]
  },
  {
   "cell_type": "code",
   "execution_count": 20,
   "metadata": {},
   "outputs": [],
   "source": [
    "df['Fuel Consumption City'] = df['Fuel Consumption City'].replace(0, df['Fuel Consumption City'].mean())\n",
    "df['Fuel Consumption Hwy'] = df['Fuel Consumption Hwy'].replace(0, df['Fuel Consumption Hwy'].mean())\n",
    "df['Fuel Consumption Comb'] = df['Fuel Consumption Comb'].replace(0, df['Fuel Consumption Comb'].mean())"
   ]
  },
  {
   "cell_type": "code",
   "execution_count": 21,
   "metadata": {},
   "outputs": [],
   "source": [
    "condition = df['Fuel Consumption Comb'].isna() & ~df['Fuel Consumption City'].isna() & ~df['Fuel Consumption Hwy'].isna()\n",
    "df.loc[condition,'Fuel Consumption Comb'] = (0.55 * df['Fuel Consumption City']) + 0.45 * (df['Fuel Consumption Hwy'])"
   ]
  },
  {
   "cell_type": "code",
   "execution_count": 22,
   "metadata": {},
   "outputs": [],
   "source": [
    "condition_city = df['Fuel Consumption City'].isna()\n",
    "df.loc[condition_city, 'Fuel Consumption City'] = df['Fuel Consumption City'].where(condition_city) + df['Fuel Consumption Hwy'].where(condition_city)\n",
    "df.loc[condition_city, 'Fuel Consumption City'] = df['Fuel Consumption City'].where(condition_city) + df['Fuel Consumption Comb'].where(condition_city)"
   ]
  },
  {
   "cell_type": "code",
   "execution_count": 23,
   "metadata": {},
   "outputs": [],
   "source": [
    "condition_hwy= df['Fuel Consumption Hwy'].isna()\n",
    "df.loc[condition_hwy,'Fuel Consumption Hwy']= df['Fuel Consumption City']\n",
    "df.loc[condition_hwy,'Fuel Consumption Hwy']= df['Fuel Consumption Comb']"
   ]
  },
  {
   "cell_type": "code",
   "execution_count": 24,
   "metadata": {},
   "outputs": [],
   "source": [
    "df['Fuel Consumption City'] = df['Fuel Consumption City'].fillna(df['Fuel Consumption City'].mean())"
   ]
  },
  {
   "cell_type": "code",
   "execution_count": 25,
   "metadata": {},
   "outputs": [],
   "source": [
    "df['Fuel Consumption Hwy']=df['Fuel Consumption Hwy'].fillna(df['Fuel Consumption Hwy'].mean())"
   ]
  },
  {
   "cell_type": "code",
   "execution_count": 26,
   "metadata": {},
   "outputs": [],
   "source": [
    "df['Fuel Consumption Comb']=df['Fuel Consumption Comb'].fillna(df['Fuel Consumption Comb'].mean())"
   ]
  },
  {
   "cell_type": "code",
   "execution_count": 27,
   "metadata": {},
   "outputs": [],
   "source": [
    "df.rename(columns={'Fuel Consumption City': 'Fuel Consumption City (L/100km)',\n",
    "                   'Fuel Consumption Hwy': 'Fuel Consumption Hwy (L/100km)',\n",
    "                   'Fuel Consumption Comb': 'Fuel Consumption Comb (L/100km)'}, inplace=True)\n",
    "\n",
    "df.drop(['city_unit', 'hwy_unit', 'comb_unit'], axis=1, inplace=True)\n",
    "df.to_csv('cleaned_test.csv', index=False)"
   ]
  }
 ],
 "metadata": {
  "kernelspec": {
   "display_name": "Python 3",
   "language": "python",
   "name": "python3"
  },
  "language_info": {
   "codemirror_mode": {
    "name": "ipython",
    "version": 3
   },
   "file_extension": ".py",
   "mimetype": "text/x-python",
   "name": "python",
   "nbconvert_exporter": "python",
   "pygments_lexer": "ipython3",
   "version": "3.12.0"
  },
  "orig_nbformat": 4
 },
 "nbformat": 4,
 "nbformat_minor": 2
}
